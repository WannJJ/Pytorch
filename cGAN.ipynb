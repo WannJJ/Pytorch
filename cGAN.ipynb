{
  "nbformat": 4,
  "nbformat_minor": 0,
  "metadata": {
    "colab": {
      "name": "Untitled0.ipynb",
      "provenance": [],
      "collapsed_sections": [],
      "authorship_tag": "ABX9TyMci+GjfV3t73hUJXdvI/PX",
      "include_colab_link": true
    },
    "kernelspec": {
      "name": "python3",
      "display_name": "Python 3"
    },
    "language_info": {
      "name": "python"
    },
    "accelerator": "GPU",
    "widgets": {
      "application/vnd.jupyter.widget-state+json": {
        "80eaac61b258412c9c40474acc310786": {
          "model_module": "@jupyter-widgets/controls",
          "model_name": "HBoxModel",
          "state": {
            "_view_name": "HBoxView",
            "_dom_classes": [],
            "_model_name": "HBoxModel",
            "_view_module": "@jupyter-widgets/controls",
            "_model_module_version": "1.5.0",
            "_view_count": null,
            "_view_module_version": "1.5.0",
            "box_style": "",
            "layout": "IPY_MODEL_a565a649b5d64dd89fd4369edeb2a3b4",
            "_model_module": "@jupyter-widgets/controls",
            "children": [
              "IPY_MODEL_d324f0fa10cf4cf2bd70566aedce7844",
              "IPY_MODEL_92424e3f357c43a98c83d73ad5be51ee"
            ]
          }
        },
        "a565a649b5d64dd89fd4369edeb2a3b4": {
          "model_module": "@jupyter-widgets/base",
          "model_name": "LayoutModel",
          "state": {
            "_view_name": "LayoutView",
            "grid_template_rows": null,
            "right": null,
            "justify_content": null,
            "_view_module": "@jupyter-widgets/base",
            "overflow": null,
            "_model_module_version": "1.2.0",
            "_view_count": null,
            "flex_flow": null,
            "width": null,
            "min_width": null,
            "border": null,
            "align_items": null,
            "bottom": null,
            "_model_module": "@jupyter-widgets/base",
            "top": null,
            "grid_column": null,
            "overflow_y": null,
            "overflow_x": null,
            "grid_auto_flow": null,
            "grid_area": null,
            "grid_template_columns": null,
            "flex": null,
            "_model_name": "LayoutModel",
            "justify_items": null,
            "grid_row": null,
            "max_height": null,
            "align_content": null,
            "visibility": null,
            "align_self": null,
            "height": null,
            "min_height": null,
            "padding": null,
            "grid_auto_rows": null,
            "grid_gap": null,
            "max_width": null,
            "order": null,
            "_view_module_version": "1.2.0",
            "grid_template_areas": null,
            "object_position": null,
            "object_fit": null,
            "grid_auto_columns": null,
            "margin": null,
            "display": null,
            "left": null
          }
        },
        "d324f0fa10cf4cf2bd70566aedce7844": {
          "model_module": "@jupyter-widgets/controls",
          "model_name": "FloatProgressModel",
          "state": {
            "_view_name": "ProgressView",
            "style": "IPY_MODEL_90d8e9af20f24fa9a6bbbd3d4cf6f6df",
            "_dom_classes": [],
            "description": "",
            "_model_name": "FloatProgressModel",
            "bar_style": "success",
            "max": 9912422,
            "_view_module": "@jupyter-widgets/controls",
            "_model_module_version": "1.5.0",
            "value": 9912422,
            "_view_count": null,
            "_view_module_version": "1.5.0",
            "orientation": "horizontal",
            "min": 0,
            "description_tooltip": null,
            "_model_module": "@jupyter-widgets/controls",
            "layout": "IPY_MODEL_f6c6df41c5754c719124825446d00f14"
          }
        },
        "92424e3f357c43a98c83d73ad5be51ee": {
          "model_module": "@jupyter-widgets/controls",
          "model_name": "HTMLModel",
          "state": {
            "_view_name": "HTMLView",
            "style": "IPY_MODEL_aa837c11d1804f8bb6677afb66d46549",
            "_dom_classes": [],
            "description": "",
            "_model_name": "HTMLModel",
            "placeholder": "​",
            "_view_module": "@jupyter-widgets/controls",
            "_model_module_version": "1.5.0",
            "value": " 9913344/? [00:15&lt;00:00, 659921.06it/s]",
            "_view_count": null,
            "_view_module_version": "1.5.0",
            "description_tooltip": null,
            "_model_module": "@jupyter-widgets/controls",
            "layout": "IPY_MODEL_e483f1183b5a4c11a7ce07c03bee6303"
          }
        },
        "90d8e9af20f24fa9a6bbbd3d4cf6f6df": {
          "model_module": "@jupyter-widgets/controls",
          "model_name": "ProgressStyleModel",
          "state": {
            "_view_name": "StyleView",
            "_model_name": "ProgressStyleModel",
            "description_width": "initial",
            "_view_module": "@jupyter-widgets/base",
            "_model_module_version": "1.5.0",
            "_view_count": null,
            "_view_module_version": "1.2.0",
            "bar_color": null,
            "_model_module": "@jupyter-widgets/controls"
          }
        },
        "f6c6df41c5754c719124825446d00f14": {
          "model_module": "@jupyter-widgets/base",
          "model_name": "LayoutModel",
          "state": {
            "_view_name": "LayoutView",
            "grid_template_rows": null,
            "right": null,
            "justify_content": null,
            "_view_module": "@jupyter-widgets/base",
            "overflow": null,
            "_model_module_version": "1.2.0",
            "_view_count": null,
            "flex_flow": null,
            "width": null,
            "min_width": null,
            "border": null,
            "align_items": null,
            "bottom": null,
            "_model_module": "@jupyter-widgets/base",
            "top": null,
            "grid_column": null,
            "overflow_y": null,
            "overflow_x": null,
            "grid_auto_flow": null,
            "grid_area": null,
            "grid_template_columns": null,
            "flex": null,
            "_model_name": "LayoutModel",
            "justify_items": null,
            "grid_row": null,
            "max_height": null,
            "align_content": null,
            "visibility": null,
            "align_self": null,
            "height": null,
            "min_height": null,
            "padding": null,
            "grid_auto_rows": null,
            "grid_gap": null,
            "max_width": null,
            "order": null,
            "_view_module_version": "1.2.0",
            "grid_template_areas": null,
            "object_position": null,
            "object_fit": null,
            "grid_auto_columns": null,
            "margin": null,
            "display": null,
            "left": null
          }
        },
        "aa837c11d1804f8bb6677afb66d46549": {
          "model_module": "@jupyter-widgets/controls",
          "model_name": "DescriptionStyleModel",
          "state": {
            "_view_name": "StyleView",
            "_model_name": "DescriptionStyleModel",
            "description_width": "",
            "_view_module": "@jupyter-widgets/base",
            "_model_module_version": "1.5.0",
            "_view_count": null,
            "_view_module_version": "1.2.0",
            "_model_module": "@jupyter-widgets/controls"
          }
        },
        "e483f1183b5a4c11a7ce07c03bee6303": {
          "model_module": "@jupyter-widgets/base",
          "model_name": "LayoutModel",
          "state": {
            "_view_name": "LayoutView",
            "grid_template_rows": null,
            "right": null,
            "justify_content": null,
            "_view_module": "@jupyter-widgets/base",
            "overflow": null,
            "_model_module_version": "1.2.0",
            "_view_count": null,
            "flex_flow": null,
            "width": null,
            "min_width": null,
            "border": null,
            "align_items": null,
            "bottom": null,
            "_model_module": "@jupyter-widgets/base",
            "top": null,
            "grid_column": null,
            "overflow_y": null,
            "overflow_x": null,
            "grid_auto_flow": null,
            "grid_area": null,
            "grid_template_columns": null,
            "flex": null,
            "_model_name": "LayoutModel",
            "justify_items": null,
            "grid_row": null,
            "max_height": null,
            "align_content": null,
            "visibility": null,
            "align_self": null,
            "height": null,
            "min_height": null,
            "padding": null,
            "grid_auto_rows": null,
            "grid_gap": null,
            "max_width": null,
            "order": null,
            "_view_module_version": "1.2.0",
            "grid_template_areas": null,
            "object_position": null,
            "object_fit": null,
            "grid_auto_columns": null,
            "margin": null,
            "display": null,
            "left": null
          }
        },
        "c2baf5cccdea4d93b93b080a2dd4fcb9": {
          "model_module": "@jupyter-widgets/controls",
          "model_name": "HBoxModel",
          "state": {
            "_view_name": "HBoxView",
            "_dom_classes": [],
            "_model_name": "HBoxModel",
            "_view_module": "@jupyter-widgets/controls",
            "_model_module_version": "1.5.0",
            "_view_count": null,
            "_view_module_version": "1.5.0",
            "box_style": "",
            "layout": "IPY_MODEL_c52c3f74883a4408a4b1d97bb383dee2",
            "_model_module": "@jupyter-widgets/controls",
            "children": [
              "IPY_MODEL_6fda3e6c4b474f6c8012ff5205643bb2",
              "IPY_MODEL_b56847951af9457b8bef479935631431"
            ]
          }
        },
        "c52c3f74883a4408a4b1d97bb383dee2": {
          "model_module": "@jupyter-widgets/base",
          "model_name": "LayoutModel",
          "state": {
            "_view_name": "LayoutView",
            "grid_template_rows": null,
            "right": null,
            "justify_content": null,
            "_view_module": "@jupyter-widgets/base",
            "overflow": null,
            "_model_module_version": "1.2.0",
            "_view_count": null,
            "flex_flow": null,
            "width": null,
            "min_width": null,
            "border": null,
            "align_items": null,
            "bottom": null,
            "_model_module": "@jupyter-widgets/base",
            "top": null,
            "grid_column": null,
            "overflow_y": null,
            "overflow_x": null,
            "grid_auto_flow": null,
            "grid_area": null,
            "grid_template_columns": null,
            "flex": null,
            "_model_name": "LayoutModel",
            "justify_items": null,
            "grid_row": null,
            "max_height": null,
            "align_content": null,
            "visibility": null,
            "align_self": null,
            "height": null,
            "min_height": null,
            "padding": null,
            "grid_auto_rows": null,
            "grid_gap": null,
            "max_width": null,
            "order": null,
            "_view_module_version": "1.2.0",
            "grid_template_areas": null,
            "object_position": null,
            "object_fit": null,
            "grid_auto_columns": null,
            "margin": null,
            "display": null,
            "left": null
          }
        },
        "6fda3e6c4b474f6c8012ff5205643bb2": {
          "model_module": "@jupyter-widgets/controls",
          "model_name": "FloatProgressModel",
          "state": {
            "_view_name": "ProgressView",
            "style": "IPY_MODEL_cd1be74c5ba642008ab8118293f1a440",
            "_dom_classes": [],
            "description": "",
            "_model_name": "FloatProgressModel",
            "bar_style": "success",
            "max": 28881,
            "_view_module": "@jupyter-widgets/controls",
            "_model_module_version": "1.5.0",
            "value": 28881,
            "_view_count": null,
            "_view_module_version": "1.5.0",
            "orientation": "horizontal",
            "min": 0,
            "description_tooltip": null,
            "_model_module": "@jupyter-widgets/controls",
            "layout": "IPY_MODEL_cd0b3fb7715d42de90a5418eb2ea9af8"
          }
        },
        "b56847951af9457b8bef479935631431": {
          "model_module": "@jupyter-widgets/controls",
          "model_name": "HTMLModel",
          "state": {
            "_view_name": "HTMLView",
            "style": "IPY_MODEL_74a8ef0058c74c4dbee12a54360162b6",
            "_dom_classes": [],
            "description": "",
            "_model_name": "HTMLModel",
            "placeholder": "​",
            "_view_module": "@jupyter-widgets/controls",
            "_model_module_version": "1.5.0",
            "value": " 29696/? [00:02&lt;00:00, 11548.39it/s]",
            "_view_count": null,
            "_view_module_version": "1.5.0",
            "description_tooltip": null,
            "_model_module": "@jupyter-widgets/controls",
            "layout": "IPY_MODEL_a46ee249f447412ba0cee234de3de70b"
          }
        },
        "cd1be74c5ba642008ab8118293f1a440": {
          "model_module": "@jupyter-widgets/controls",
          "model_name": "ProgressStyleModel",
          "state": {
            "_view_name": "StyleView",
            "_model_name": "ProgressStyleModel",
            "description_width": "initial",
            "_view_module": "@jupyter-widgets/base",
            "_model_module_version": "1.5.0",
            "_view_count": null,
            "_view_module_version": "1.2.0",
            "bar_color": null,
            "_model_module": "@jupyter-widgets/controls"
          }
        },
        "cd0b3fb7715d42de90a5418eb2ea9af8": {
          "model_module": "@jupyter-widgets/base",
          "model_name": "LayoutModel",
          "state": {
            "_view_name": "LayoutView",
            "grid_template_rows": null,
            "right": null,
            "justify_content": null,
            "_view_module": "@jupyter-widgets/base",
            "overflow": null,
            "_model_module_version": "1.2.0",
            "_view_count": null,
            "flex_flow": null,
            "width": null,
            "min_width": null,
            "border": null,
            "align_items": null,
            "bottom": null,
            "_model_module": "@jupyter-widgets/base",
            "top": null,
            "grid_column": null,
            "overflow_y": null,
            "overflow_x": null,
            "grid_auto_flow": null,
            "grid_area": null,
            "grid_template_columns": null,
            "flex": null,
            "_model_name": "LayoutModel",
            "justify_items": null,
            "grid_row": null,
            "max_height": null,
            "align_content": null,
            "visibility": null,
            "align_self": null,
            "height": null,
            "min_height": null,
            "padding": null,
            "grid_auto_rows": null,
            "grid_gap": null,
            "max_width": null,
            "order": null,
            "_view_module_version": "1.2.0",
            "grid_template_areas": null,
            "object_position": null,
            "object_fit": null,
            "grid_auto_columns": null,
            "margin": null,
            "display": null,
            "left": null
          }
        },
        "74a8ef0058c74c4dbee12a54360162b6": {
          "model_module": "@jupyter-widgets/controls",
          "model_name": "DescriptionStyleModel",
          "state": {
            "_view_name": "StyleView",
            "_model_name": "DescriptionStyleModel",
            "description_width": "",
            "_view_module": "@jupyter-widgets/base",
            "_model_module_version": "1.5.0",
            "_view_count": null,
            "_view_module_version": "1.2.0",
            "_model_module": "@jupyter-widgets/controls"
          }
        },
        "a46ee249f447412ba0cee234de3de70b": {
          "model_module": "@jupyter-widgets/base",
          "model_name": "LayoutModel",
          "state": {
            "_view_name": "LayoutView",
            "grid_template_rows": null,
            "right": null,
            "justify_content": null,
            "_view_module": "@jupyter-widgets/base",
            "overflow": null,
            "_model_module_version": "1.2.0",
            "_view_count": null,
            "flex_flow": null,
            "width": null,
            "min_width": null,
            "border": null,
            "align_items": null,
            "bottom": null,
            "_model_module": "@jupyter-widgets/base",
            "top": null,
            "grid_column": null,
            "overflow_y": null,
            "overflow_x": null,
            "grid_auto_flow": null,
            "grid_area": null,
            "grid_template_columns": null,
            "flex": null,
            "_model_name": "LayoutModel",
            "justify_items": null,
            "grid_row": null,
            "max_height": null,
            "align_content": null,
            "visibility": null,
            "align_self": null,
            "height": null,
            "min_height": null,
            "padding": null,
            "grid_auto_rows": null,
            "grid_gap": null,
            "max_width": null,
            "order": null,
            "_view_module_version": "1.2.0",
            "grid_template_areas": null,
            "object_position": null,
            "object_fit": null,
            "grid_auto_columns": null,
            "margin": null,
            "display": null,
            "left": null
          }
        },
        "3248e933235042508e571d24aa52bb3c": {
          "model_module": "@jupyter-widgets/controls",
          "model_name": "HBoxModel",
          "state": {
            "_view_name": "HBoxView",
            "_dom_classes": [],
            "_model_name": "HBoxModel",
            "_view_module": "@jupyter-widgets/controls",
            "_model_module_version": "1.5.0",
            "_view_count": null,
            "_view_module_version": "1.5.0",
            "box_style": "",
            "layout": "IPY_MODEL_b6a7406046084104ac76fc50182bb2a6",
            "_model_module": "@jupyter-widgets/controls",
            "children": [
              "IPY_MODEL_f5f1b85f1d1d4c97bdad92ecac3c28e2",
              "IPY_MODEL_f4322a9ddfb84ee0be987c6568ba315a"
            ]
          }
        },
        "b6a7406046084104ac76fc50182bb2a6": {
          "model_module": "@jupyter-widgets/base",
          "model_name": "LayoutModel",
          "state": {
            "_view_name": "LayoutView",
            "grid_template_rows": null,
            "right": null,
            "justify_content": null,
            "_view_module": "@jupyter-widgets/base",
            "overflow": null,
            "_model_module_version": "1.2.0",
            "_view_count": null,
            "flex_flow": null,
            "width": null,
            "min_width": null,
            "border": null,
            "align_items": null,
            "bottom": null,
            "_model_module": "@jupyter-widgets/base",
            "top": null,
            "grid_column": null,
            "overflow_y": null,
            "overflow_x": null,
            "grid_auto_flow": null,
            "grid_area": null,
            "grid_template_columns": null,
            "flex": null,
            "_model_name": "LayoutModel",
            "justify_items": null,
            "grid_row": null,
            "max_height": null,
            "align_content": null,
            "visibility": null,
            "align_self": null,
            "height": null,
            "min_height": null,
            "padding": null,
            "grid_auto_rows": null,
            "grid_gap": null,
            "max_width": null,
            "order": null,
            "_view_module_version": "1.2.0",
            "grid_template_areas": null,
            "object_position": null,
            "object_fit": null,
            "grid_auto_columns": null,
            "margin": null,
            "display": null,
            "left": null
          }
        },
        "f5f1b85f1d1d4c97bdad92ecac3c28e2": {
          "model_module": "@jupyter-widgets/controls",
          "model_name": "FloatProgressModel",
          "state": {
            "_view_name": "ProgressView",
            "style": "IPY_MODEL_8b6b697ada5a45c087ec187d9f8b5b04",
            "_dom_classes": [],
            "description": "",
            "_model_name": "FloatProgressModel",
            "bar_style": "success",
            "max": 1648877,
            "_view_module": "@jupyter-widgets/controls",
            "_model_module_version": "1.5.0",
            "value": 1648877,
            "_view_count": null,
            "_view_module_version": "1.5.0",
            "orientation": "horizontal",
            "min": 0,
            "description_tooltip": null,
            "_model_module": "@jupyter-widgets/controls",
            "layout": "IPY_MODEL_5012570f892c4605be130cd2b2fb4ab9"
          }
        },
        "f4322a9ddfb84ee0be987c6568ba315a": {
          "model_module": "@jupyter-widgets/controls",
          "model_name": "HTMLModel",
          "state": {
            "_view_name": "HTMLView",
            "style": "IPY_MODEL_66514fb5f61942aaa398bdb93b9ee3b1",
            "_dom_classes": [],
            "description": "",
            "_model_name": "HTMLModel",
            "placeholder": "​",
            "_view_module": "@jupyter-widgets/controls",
            "_model_module_version": "1.5.0",
            "value": " 1649664/? [00:01&lt;00:00, 1090385.95it/s]",
            "_view_count": null,
            "_view_module_version": "1.5.0",
            "description_tooltip": null,
            "_model_module": "@jupyter-widgets/controls",
            "layout": "IPY_MODEL_6328a78a42244dc29458bf383491feb8"
          }
        },
        "8b6b697ada5a45c087ec187d9f8b5b04": {
          "model_module": "@jupyter-widgets/controls",
          "model_name": "ProgressStyleModel",
          "state": {
            "_view_name": "StyleView",
            "_model_name": "ProgressStyleModel",
            "description_width": "initial",
            "_view_module": "@jupyter-widgets/base",
            "_model_module_version": "1.5.0",
            "_view_count": null,
            "_view_module_version": "1.2.0",
            "bar_color": null,
            "_model_module": "@jupyter-widgets/controls"
          }
        },
        "5012570f892c4605be130cd2b2fb4ab9": {
          "model_module": "@jupyter-widgets/base",
          "model_name": "LayoutModel",
          "state": {
            "_view_name": "LayoutView",
            "grid_template_rows": null,
            "right": null,
            "justify_content": null,
            "_view_module": "@jupyter-widgets/base",
            "overflow": null,
            "_model_module_version": "1.2.0",
            "_view_count": null,
            "flex_flow": null,
            "width": null,
            "min_width": null,
            "border": null,
            "align_items": null,
            "bottom": null,
            "_model_module": "@jupyter-widgets/base",
            "top": null,
            "grid_column": null,
            "overflow_y": null,
            "overflow_x": null,
            "grid_auto_flow": null,
            "grid_area": null,
            "grid_template_columns": null,
            "flex": null,
            "_model_name": "LayoutModel",
            "justify_items": null,
            "grid_row": null,
            "max_height": null,
            "align_content": null,
            "visibility": null,
            "align_self": null,
            "height": null,
            "min_height": null,
            "padding": null,
            "grid_auto_rows": null,
            "grid_gap": null,
            "max_width": null,
            "order": null,
            "_view_module_version": "1.2.0",
            "grid_template_areas": null,
            "object_position": null,
            "object_fit": null,
            "grid_auto_columns": null,
            "margin": null,
            "display": null,
            "left": null
          }
        },
        "66514fb5f61942aaa398bdb93b9ee3b1": {
          "model_module": "@jupyter-widgets/controls",
          "model_name": "DescriptionStyleModel",
          "state": {
            "_view_name": "StyleView",
            "_model_name": "DescriptionStyleModel",
            "description_width": "",
            "_view_module": "@jupyter-widgets/base",
            "_model_module_version": "1.5.0",
            "_view_count": null,
            "_view_module_version": "1.2.0",
            "_model_module": "@jupyter-widgets/controls"
          }
        },
        "6328a78a42244dc29458bf383491feb8": {
          "model_module": "@jupyter-widgets/base",
          "model_name": "LayoutModel",
          "state": {
            "_view_name": "LayoutView",
            "grid_template_rows": null,
            "right": null,
            "justify_content": null,
            "_view_module": "@jupyter-widgets/base",
            "overflow": null,
            "_model_module_version": "1.2.0",
            "_view_count": null,
            "flex_flow": null,
            "width": null,
            "min_width": null,
            "border": null,
            "align_items": null,
            "bottom": null,
            "_model_module": "@jupyter-widgets/base",
            "top": null,
            "grid_column": null,
            "overflow_y": null,
            "overflow_x": null,
            "grid_auto_flow": null,
            "grid_area": null,
            "grid_template_columns": null,
            "flex": null,
            "_model_name": "LayoutModel",
            "justify_items": null,
            "grid_row": null,
            "max_height": null,
            "align_content": null,
            "visibility": null,
            "align_self": null,
            "height": null,
            "min_height": null,
            "padding": null,
            "grid_auto_rows": null,
            "grid_gap": null,
            "max_width": null,
            "order": null,
            "_view_module_version": "1.2.0",
            "grid_template_areas": null,
            "object_position": null,
            "object_fit": null,
            "grid_auto_columns": null,
            "margin": null,
            "display": null,
            "left": null
          }
        },
        "d402ce0efca948e7b663eabd848598a9": {
          "model_module": "@jupyter-widgets/controls",
          "model_name": "HBoxModel",
          "state": {
            "_view_name": "HBoxView",
            "_dom_classes": [],
            "_model_name": "HBoxModel",
            "_view_module": "@jupyter-widgets/controls",
            "_model_module_version": "1.5.0",
            "_view_count": null,
            "_view_module_version": "1.5.0",
            "box_style": "",
            "layout": "IPY_MODEL_2dc21b0af33940a7a9fddfc881b35627",
            "_model_module": "@jupyter-widgets/controls",
            "children": [
              "IPY_MODEL_dbe285a79de24bb69ff7c00aa757f2b6",
              "IPY_MODEL_35d65b228d184178ad970ec3787e5785"
            ]
          }
        },
        "2dc21b0af33940a7a9fddfc881b35627": {
          "model_module": "@jupyter-widgets/base",
          "model_name": "LayoutModel",
          "state": {
            "_view_name": "LayoutView",
            "grid_template_rows": null,
            "right": null,
            "justify_content": null,
            "_view_module": "@jupyter-widgets/base",
            "overflow": null,
            "_model_module_version": "1.2.0",
            "_view_count": null,
            "flex_flow": null,
            "width": null,
            "min_width": null,
            "border": null,
            "align_items": null,
            "bottom": null,
            "_model_module": "@jupyter-widgets/base",
            "top": null,
            "grid_column": null,
            "overflow_y": null,
            "overflow_x": null,
            "grid_auto_flow": null,
            "grid_area": null,
            "grid_template_columns": null,
            "flex": null,
            "_model_name": "LayoutModel",
            "justify_items": null,
            "grid_row": null,
            "max_height": null,
            "align_content": null,
            "visibility": null,
            "align_self": null,
            "height": null,
            "min_height": null,
            "padding": null,
            "grid_auto_rows": null,
            "grid_gap": null,
            "max_width": null,
            "order": null,
            "_view_module_version": "1.2.0",
            "grid_template_areas": null,
            "object_position": null,
            "object_fit": null,
            "grid_auto_columns": null,
            "margin": null,
            "display": null,
            "left": null
          }
        },
        "dbe285a79de24bb69ff7c00aa757f2b6": {
          "model_module": "@jupyter-widgets/controls",
          "model_name": "FloatProgressModel",
          "state": {
            "_view_name": "ProgressView",
            "style": "IPY_MODEL_75ca2eb801d94444b113eeab75f06427",
            "_dom_classes": [],
            "description": "",
            "_model_name": "FloatProgressModel",
            "bar_style": "success",
            "max": 4542,
            "_view_module": "@jupyter-widgets/controls",
            "_model_module_version": "1.5.0",
            "value": 4542,
            "_view_count": null,
            "_view_module_version": "1.5.0",
            "orientation": "horizontal",
            "min": 0,
            "description_tooltip": null,
            "_model_module": "@jupyter-widgets/controls",
            "layout": "IPY_MODEL_3b8e70dc70a048deb8d80ae6154f64eb"
          }
        },
        "35d65b228d184178ad970ec3787e5785": {
          "model_module": "@jupyter-widgets/controls",
          "model_name": "HTMLModel",
          "state": {
            "_view_name": "HTMLView",
            "style": "IPY_MODEL_5a466c755d7c4b2e9b5de421ff0f10b0",
            "_dom_classes": [],
            "description": "",
            "_model_name": "HTMLModel",
            "placeholder": "​",
            "_view_module": "@jupyter-widgets/controls",
            "_model_module_version": "1.5.0",
            "value": " 5120/? [00:09&lt;00:00, 521.14it/s]",
            "_view_count": null,
            "_view_module_version": "1.5.0",
            "description_tooltip": null,
            "_model_module": "@jupyter-widgets/controls",
            "layout": "IPY_MODEL_54e7228025444cf798312b1bdb670a8f"
          }
        },
        "75ca2eb801d94444b113eeab75f06427": {
          "model_module": "@jupyter-widgets/controls",
          "model_name": "ProgressStyleModel",
          "state": {
            "_view_name": "StyleView",
            "_model_name": "ProgressStyleModel",
            "description_width": "initial",
            "_view_module": "@jupyter-widgets/base",
            "_model_module_version": "1.5.0",
            "_view_count": null,
            "_view_module_version": "1.2.0",
            "bar_color": null,
            "_model_module": "@jupyter-widgets/controls"
          }
        },
        "3b8e70dc70a048deb8d80ae6154f64eb": {
          "model_module": "@jupyter-widgets/base",
          "model_name": "LayoutModel",
          "state": {
            "_view_name": "LayoutView",
            "grid_template_rows": null,
            "right": null,
            "justify_content": null,
            "_view_module": "@jupyter-widgets/base",
            "overflow": null,
            "_model_module_version": "1.2.0",
            "_view_count": null,
            "flex_flow": null,
            "width": null,
            "min_width": null,
            "border": null,
            "align_items": null,
            "bottom": null,
            "_model_module": "@jupyter-widgets/base",
            "top": null,
            "grid_column": null,
            "overflow_y": null,
            "overflow_x": null,
            "grid_auto_flow": null,
            "grid_area": null,
            "grid_template_columns": null,
            "flex": null,
            "_model_name": "LayoutModel",
            "justify_items": null,
            "grid_row": null,
            "max_height": null,
            "align_content": null,
            "visibility": null,
            "align_self": null,
            "height": null,
            "min_height": null,
            "padding": null,
            "grid_auto_rows": null,
            "grid_gap": null,
            "max_width": null,
            "order": null,
            "_view_module_version": "1.2.0",
            "grid_template_areas": null,
            "object_position": null,
            "object_fit": null,
            "grid_auto_columns": null,
            "margin": null,
            "display": null,
            "left": null
          }
        },
        "5a466c755d7c4b2e9b5de421ff0f10b0": {
          "model_module": "@jupyter-widgets/controls",
          "model_name": "DescriptionStyleModel",
          "state": {
            "_view_name": "StyleView",
            "_model_name": "DescriptionStyleModel",
            "description_width": "",
            "_view_module": "@jupyter-widgets/base",
            "_model_module_version": "1.5.0",
            "_view_count": null,
            "_view_module_version": "1.2.0",
            "_model_module": "@jupyter-widgets/controls"
          }
        },
        "54e7228025444cf798312b1bdb670a8f": {
          "model_module": "@jupyter-widgets/base",
          "model_name": "LayoutModel",
          "state": {
            "_view_name": "LayoutView",
            "grid_template_rows": null,
            "right": null,
            "justify_content": null,
            "_view_module": "@jupyter-widgets/base",
            "overflow": null,
            "_model_module_version": "1.2.0",
            "_view_count": null,
            "flex_flow": null,
            "width": null,
            "min_width": null,
            "border": null,
            "align_items": null,
            "bottom": null,
            "_model_module": "@jupyter-widgets/base",
            "top": null,
            "grid_column": null,
            "overflow_y": null,
            "overflow_x": null,
            "grid_auto_flow": null,
            "grid_area": null,
            "grid_template_columns": null,
            "flex": null,
            "_model_name": "LayoutModel",
            "justify_items": null,
            "grid_row": null,
            "max_height": null,
            "align_content": null,
            "visibility": null,
            "align_self": null,
            "height": null,
            "min_height": null,
            "padding": null,
            "grid_auto_rows": null,
            "grid_gap": null,
            "max_width": null,
            "order": null,
            "_view_module_version": "1.2.0",
            "grid_template_areas": null,
            "object_position": null,
            "object_fit": null,
            "grid_auto_columns": null,
            "margin": null,
            "display": null,
            "left": null
          }
        }
      }
    }
  },
  "cells": [
    {
      "cell_type": "markdown",
      "metadata": {
        "id": "view-in-github",
        "colab_type": "text"
      },
      "source": [
        "<a href=\"https://colab.research.google.com/github/WannJJ/Pytorch/blob/main/cGAN.ipynb\" target=\"_parent\"><img src=\"https://colab.research.google.com/assets/colab-badge.svg\" alt=\"Open In Colab\"/></a>"
      ]
    },
    {
      "cell_type": "code",
      "metadata": {
        "id": "D8eopq6nUtRn"
      },
      "source": [
        "import torch\n",
        "import torch.nn as nn\n",
        "import torch.nn.functional as F\n",
        "import numpy as np\n",
        "import torchvision\n",
        "import matplotlib.pyplot as plt\n",
        "from torchsummary import summary\n",
        "from tqdm import tqdm\n",
        "import time\n",
        "\n",
        "\n",
        "\n",
        "\n",
        "\n",
        "\n"
      ],
      "execution_count": 1,
      "outputs": []
    },
    {
      "cell_type": "code",
      "metadata": {
        "colab": {
          "base_uri": "https://localhost:8080/",
          "height": 930,
          "referenced_widgets": [
            "80eaac61b258412c9c40474acc310786",
            "a565a649b5d64dd89fd4369edeb2a3b4",
            "d324f0fa10cf4cf2bd70566aedce7844",
            "92424e3f357c43a98c83d73ad5be51ee",
            "90d8e9af20f24fa9a6bbbd3d4cf6f6df",
            "f6c6df41c5754c719124825446d00f14",
            "aa837c11d1804f8bb6677afb66d46549",
            "e483f1183b5a4c11a7ce07c03bee6303",
            "c2baf5cccdea4d93b93b080a2dd4fcb9",
            "c52c3f74883a4408a4b1d97bb383dee2",
            "6fda3e6c4b474f6c8012ff5205643bb2",
            "b56847951af9457b8bef479935631431",
            "cd1be74c5ba642008ab8118293f1a440",
            "cd0b3fb7715d42de90a5418eb2ea9af8",
            "74a8ef0058c74c4dbee12a54360162b6",
            "a46ee249f447412ba0cee234de3de70b",
            "3248e933235042508e571d24aa52bb3c",
            "b6a7406046084104ac76fc50182bb2a6",
            "f5f1b85f1d1d4c97bdad92ecac3c28e2",
            "f4322a9ddfb84ee0be987c6568ba315a",
            "8b6b697ada5a45c087ec187d9f8b5b04",
            "5012570f892c4605be130cd2b2fb4ab9",
            "66514fb5f61942aaa398bdb93b9ee3b1",
            "6328a78a42244dc29458bf383491feb8",
            "d402ce0efca948e7b663eabd848598a9",
            "2dc21b0af33940a7a9fddfc881b35627",
            "dbe285a79de24bb69ff7c00aa757f2b6",
            "35d65b228d184178ad970ec3787e5785",
            "75ca2eb801d94444b113eeab75f06427",
            "3b8e70dc70a048deb8d80ae6154f64eb",
            "5a466c755d7c4b2e9b5de421ff0f10b0",
            "54e7228025444cf798312b1bdb670a8f"
          ]
        },
        "id": "FVMEi3c8VL1F",
        "outputId": "f167b138-d360-415e-90bd-23393155218f"
      },
      "source": [
        "\n",
        "mnist_dev= torchvision.datasets.MNIST('./data', train = True, download=True)\n",
        "mnist_test= torchvision.datasets.MNIST('./data', train= False, download= True)\n",
        "\n",
        "x_dev= mnist_dev.train_data /255.0\n",
        "y_dev= mnist_dev.train_labels"
      ],
      "execution_count": 3,
      "outputs": [
        {
          "output_type": "stream",
          "text": [
            "Downloading http://yann.lecun.com/exdb/mnist/train-images-idx3-ubyte.gz\n",
            "Downloading http://yann.lecun.com/exdb/mnist/train-images-idx3-ubyte.gz to ./data/MNIST/raw/train-images-idx3-ubyte.gz\n",
            "Failed to download (trying next):\n",
            "HTTP Error 503: Service Unavailable\n",
            "\n",
            "Downloading https://ossci-datasets.s3.amazonaws.com/mnist/train-images-idx3-ubyte.gz\n",
            "Downloading https://ossci-datasets.s3.amazonaws.com/mnist/train-images-idx3-ubyte.gz to ./data/MNIST/raw/train-images-idx3-ubyte.gz\n"
          ],
          "name": "stdout"
        },
        {
          "output_type": "display_data",
          "data": {
            "application/vnd.jupyter.widget-view+json": {
              "model_id": "80eaac61b258412c9c40474acc310786",
              "version_minor": 0,
              "version_major": 2
            },
            "text/plain": [
              "HBox(children=(FloatProgress(value=0.0, max=9912422.0), HTML(value='')))"
            ]
          },
          "metadata": {
            "tags": []
          }
        },
        {
          "output_type": "stream",
          "text": [
            "\n",
            "Extracting ./data/MNIST/raw/train-images-idx3-ubyte.gz to ./data/MNIST/raw\n",
            "\n",
            "Downloading http://yann.lecun.com/exdb/mnist/train-labels-idx1-ubyte.gz\n",
            "Failed to download (trying next):\n",
            "HTTP Error 503: Service Unavailable\n",
            "\n",
            "Downloading https://ossci-datasets.s3.amazonaws.com/mnist/train-labels-idx1-ubyte.gz\n",
            "Downloading https://ossci-datasets.s3.amazonaws.com/mnist/train-labels-idx1-ubyte.gz to ./data/MNIST/raw/train-labels-idx1-ubyte.gz\n"
          ],
          "name": "stdout"
        },
        {
          "output_type": "display_data",
          "data": {
            "application/vnd.jupyter.widget-view+json": {
              "model_id": "c2baf5cccdea4d93b93b080a2dd4fcb9",
              "version_minor": 0,
              "version_major": 2
            },
            "text/plain": [
              "HBox(children=(FloatProgress(value=0.0, max=28881.0), HTML(value='')))"
            ]
          },
          "metadata": {
            "tags": []
          }
        },
        {
          "output_type": "stream",
          "text": [
            "\n",
            "Extracting ./data/MNIST/raw/train-labels-idx1-ubyte.gz to ./data/MNIST/raw\n",
            "\n",
            "Downloading http://yann.lecun.com/exdb/mnist/t10k-images-idx3-ubyte.gz\n",
            "Failed to download (trying next):\n",
            "HTTP Error 503: Service Unavailable\n",
            "\n",
            "Downloading https://ossci-datasets.s3.amazonaws.com/mnist/t10k-images-idx3-ubyte.gz\n",
            "Downloading https://ossci-datasets.s3.amazonaws.com/mnist/t10k-images-idx3-ubyte.gz to ./data/MNIST/raw/t10k-images-idx3-ubyte.gz\n"
          ],
          "name": "stdout"
        },
        {
          "output_type": "display_data",
          "data": {
            "application/vnd.jupyter.widget-view+json": {
              "model_id": "3248e933235042508e571d24aa52bb3c",
              "version_minor": 0,
              "version_major": 2
            },
            "text/plain": [
              "HBox(children=(FloatProgress(value=0.0, max=1648877.0), HTML(value='')))"
            ]
          },
          "metadata": {
            "tags": []
          }
        },
        {
          "output_type": "stream",
          "text": [
            "\n",
            "Extracting ./data/MNIST/raw/t10k-images-idx3-ubyte.gz to ./data/MNIST/raw\n",
            "\n",
            "Downloading http://yann.lecun.com/exdb/mnist/t10k-labels-idx1-ubyte.gz\n",
            "Failed to download (trying next):\n",
            "HTTP Error 503: Service Unavailable\n",
            "\n",
            "Downloading https://ossci-datasets.s3.amazonaws.com/mnist/t10k-labels-idx1-ubyte.gz\n",
            "Downloading https://ossci-datasets.s3.amazonaws.com/mnist/t10k-labels-idx1-ubyte.gz to ./data/MNIST/raw/t10k-labels-idx1-ubyte.gz\n"
          ],
          "name": "stdout"
        },
        {
          "output_type": "display_data",
          "data": {
            "application/vnd.jupyter.widget-view+json": {
              "model_id": "d402ce0efca948e7b663eabd848598a9",
              "version_minor": 0,
              "version_major": 2
            },
            "text/plain": [
              "HBox(children=(FloatProgress(value=0.0, max=4542.0), HTML(value='')))"
            ]
          },
          "metadata": {
            "tags": []
          }
        },
        {
          "output_type": "stream",
          "text": [
            "\n",
            "Extracting ./data/MNIST/raw/t10k-labels-idx1-ubyte.gz to ./data/MNIST/raw\n",
            "\n",
            "Processing...\n",
            "Done!\n"
          ],
          "name": "stdout"
        },
        {
          "output_type": "stream",
          "text": [
            "/usr/local/lib/python3.7/dist-packages/torchvision/datasets/mnist.py:502: UserWarning: The given NumPy array is not writeable, and PyTorch does not support non-writeable tensors. This means you can write to the underlying (supposedly non-writeable) NumPy array using the tensor. You may want to copy the array to protect its data or make it writeable before converting it to a tensor. This type of warning will be suppressed for the rest of this program. (Triggered internally at  /pytorch/torch/csrc/utils/tensor_numpy.cpp:143.)\n",
            "  return torch.from_numpy(parsed.astype(m[2], copy=False)).view(*s)\n",
            "/usr/local/lib/python3.7/dist-packages/torchvision/datasets/mnist.py:64: UserWarning: train_data has been renamed data\n",
            "  warnings.warn(\"train_data has been renamed data\")\n",
            "/usr/local/lib/python3.7/dist-packages/torchvision/datasets/mnist.py:54: UserWarning: train_labels has been renamed targets\n",
            "  warnings.warn(\"train_labels has been renamed targets\")\n"
          ],
          "name": "stderr"
        }
      ]
    },
    {
      "cell_type": "code",
      "metadata": {
        "colab": {
          "base_uri": "https://localhost:8080/",
          "height": 350
        },
        "id": "2JjMzp1oVbDx",
        "outputId": "54330a75-80e9-49a9-eb31-35ddf8640036"
      },
      "source": [
        "\n",
        "# MNIST consists of 60,000 28x28 images, each corresponding to a single digit (0 to 9).\n",
        "print(x_dev.shape)\n",
        "print(y_dev.shape)\n",
        "\n",
        "plt.imshow(x_dev[0], cmap='gray')\n",
        "print(y_dev[0])\n",
        "print(torch.cuda.is_available())\n",
        "device = torch.device('cuda') if torch.cuda.is_available() else torch.device('cpu')\n",
        "print(device)\n",
        "ntrain= 50000\n",
        "x_train, y_train= x_dev[:ntrain], y_dev[:ntrain]\n",
        "x_val, y_val= x_dev[ntrain:], y_dev[ntrain:]\n",
        "\n",
        "\n",
        "def load_real_samples():\n",
        "\t# load dataset\n",
        "\treturn [x_dev, y_dev]"
      ],
      "execution_count": 4,
      "outputs": [
        {
          "output_type": "stream",
          "text": [
            "torch.Size([60000, 28, 28])\n",
            "torch.Size([60000])\n",
            "tensor(5)\n",
            "True\n",
            "cuda\n"
          ],
          "name": "stdout"
        },
        {
          "output_type": "display_data",
          "data": {
            "image/png": "[encoded data removed]",
            "text/plain": [
              "<Figure size 432x288 with 1 Axes>"
            ]
          },
          "metadata": {
            "tags": [],
            "needs_background": "light"
          }
        }
      ]
    },
    {
      "cell_type": "code",
      "metadata": {
        "id": "W5hOTOSoVbOM"
      },
      "source": [
        "def generate_real_samples(dataset, n_samples):\n",
        "\t# split into images and labels\n",
        "\timages, labels = dataset\n",
        "\t# choose random instances\n",
        "\tix = np.random.randint(0, images.shape[0], n_samples)\n",
        "\t# select images and labels\n",
        "\tX, labels = images[ix], labels[ix]\n",
        "\t# generate class labels\n",
        "\ty = torch.ones((n_samples))\n",
        "\treturn [X, labels], y\n",
        "generate_real_samples([x_train, y_train], 10)\n",
        "\n",
        "def generate_real_samples_fake_labels(dataset, n_samples):\n",
        "    images, labels = dataset\n",
        "    ix = np.random.randint(0, images.shape[0], n_samples)\n",
        "    X, labels = images[ix], labels[ix]\n",
        "    #generate fake labels\n",
        "    labels = (labels+torch.randint(1, 9, size = (n_samples,)))%10\n",
        "    y = torch.zeros((n_samples))\n",
        "    return [X, labels], y"
      ],
      "execution_count": 5,
      "outputs": []
    },
    {
      "cell_type": "code",
      "metadata": {
        "id": "WdZ7InMUVbQx"
      },
      "source": [
        "def generate_latent_points(latent_dim, n_samples, n_classes=10):\n",
        "\t# generate points in the latent space\n",
        "\tx_input = np.random.randn(latent_dim * n_samples)\n",
        "\t# reshape into a batch of inputs for the network\n",
        "\tz_input = x_input.reshape(n_samples, latent_dim)\n",
        "\t# generate labels\n",
        "\tlabels = np.random.randint(0, n_classes, n_samples)\n",
        "\treturn [torch.Tensor(z_input), torch.Tensor(labels).type(torch.LongTensor)]\n",
        "def generate_fake_samples(generator, latent_dim, n_samples):\n",
        "\t# generate points in latent space\n",
        "\tz_input, labels_input = generate_latent_points(latent_dim, n_samples)\n",
        "\t# predict outputs\n",
        "\timages = generator(z_input.to(device), labels_input.to(device))\n",
        "\t# create class labels\n",
        "\ty = torch.zeros((n_samples))\n",
        "\treturn [images, labels_input], y\n",
        "\n"
      ],
      "execution_count": 8,
      "outputs": []
    },
    {
      "cell_type": "code",
      "metadata": {
        "colab": {
          "base_uri": "https://localhost:8080/"
        },
        "id": "i8AxxSDgVbTj",
        "outputId": "cf8857fb-1427-4bf2-8dd2-10c0b4b87d61"
      },
      "source": [
        "class Discriminator(nn.Module):\n",
        "    def __init__(self, img_size: int = 28, num_classes: int = 10):\n",
        "        super(Discriminator, self).__init__()\n",
        "        self.img_size = img_size\n",
        "        self.num_classes = num_classes\n",
        "        self.embedding  = nn.Embedding(num_classes, 50)\n",
        "        self.ln1 = nn.Linear(50, self.img_size*self.img_size)\n",
        "        self.model = nn.Sequential(\n",
        "                nn.Conv2d(2, 64, 3, stride=2), \n",
        "                nn.LeakyReLU(0.2),\n",
        "                nn.Conv2d(64, 128, 3, stride=2),\n",
        "                nn.LeakyReLU(0.2),\n",
        "                nn.Flatten(),\n",
        "                nn.Dropout(0.4),\n",
        "                nn.Linear(4608, 1),\n",
        "                nn.Sigmoid()\n",
        "                \n",
        "                )\n",
        "\n",
        "    def forward(self, inp, labels):\n",
        "        em = self.embedding(labels)\n",
        "        em = self.ln1(em)\n",
        "        em = em.view((-1, 1, self.img_size, self.img_size))\n",
        "        im= inp.view(-1, 1, self.img_size, self.img_size)\n",
        "        \n",
        "        X = torch.cat([im, em], dim = 1)\n",
        "        y= self.model(X)\n",
        "        return y\n",
        "\n",
        "#output size must be (-1, 1)\n",
        "summary(Discriminator().model, input_size= (2, 28, 28), device= 'cpu')\n",
        "model = Discriminator()\n"
      ],
      "execution_count": 9,
      "outputs": [
        {
          "output_type": "stream",
          "text": [
            "----------------------------------------------------------------\n",
            "        Layer (type)               Output Shape         Param #\n",
            "================================================================\n",
            "            Conv2d-1           [-1, 64, 13, 13]           1,216\n",
            "         LeakyReLU-2           [-1, 64, 13, 13]               0\n",
            "            Conv2d-3            [-1, 128, 6, 6]          73,856\n",
            "         LeakyReLU-4            [-1, 128, 6, 6]               0\n",
            "           Flatten-5                 [-1, 4608]               0\n",
            "           Dropout-6                 [-1, 4608]               0\n",
            "            Linear-7                    [-1, 1]           4,609\n",
            "           Sigmoid-8                    [-1, 1]               0\n",
            "================================================================\n",
            "Total params: 79,681\n",
            "Trainable params: 79,681\n",
            "Non-trainable params: 0\n",
            "----------------------------------------------------------------\n",
            "Input size (MB): 0.01\n",
            "Forward/backward pass size (MB): 0.31\n",
            "Params size (MB): 0.30\n",
            "Estimated Total Size (MB): 0.62\n",
            "----------------------------------------------------------------\n"
          ],
          "name": "stdout"
        }
      ]
    },
    {
      "cell_type": "code",
      "metadata": {
        "colab": {
          "base_uri": "https://localhost:8080/"
        },
        "id": "DTz0ZfsVVbV7",
        "outputId": "bca4e31a-fedf-4e11-87a5-034003c963c0"
      },
      "source": [
        "class Generator(nn.Module):\n",
        "    def __init__(self,latent_dim:int = 100, num_classes: int = 10 ):\n",
        "        super(Generator, self).__init__()\n",
        "        self.latent_dim = latent_dim\n",
        "        self.num_classes = num_classes\n",
        "        self.embedding  = nn.Embedding(num_classes, 50)\n",
        "        self.ln1 = nn.Linear(50, 7*7)\n",
        "        self.ln2 =  nn.Linear(latent_dim, 128*7*7)\n",
        "        self.relu1 = nn.LeakyReLU(0.2)\n",
        "        self.model = nn.Sequential(\n",
        "                nn.ConvTranspose2d(129, 64, kernel_size= 4,stride= 2),\n",
        "                nn.LeakyReLU(0.2),\n",
        "                nn.ConvTranspose2d(64, 32, kernel_size= 4, stride= 2),\n",
        "                nn.LeakyReLU(0.2),\n",
        "                nn.Conv2d(32, 1, kernel_size= 7),\n",
        "                #nn.Tanh()\n",
        "                nn.Sigmoid()\n",
        "                \n",
        "                )\n",
        "        \n",
        "        \n",
        "    def device(self):\n",
        "        return self.parameters().device\n",
        "    \n",
        "    \n",
        "    def forward(self, inp, labels):\n",
        "        \"\"\"\n",
        "        input: noise/ latent vector\n",
        "        \n",
        "        return: fake images\n",
        "        \"\"\"\n",
        "        label_em = self.embedding(labels)\n",
        "        le = self.ln1(label_em)\n",
        "        le = le.view((-1, 1, 7, 7))\n",
        "        \n",
        "        li = self.ln2(inp)\n",
        "        li = self.relu1(li)\n",
        "        li = li.view((-1, 128, 7, 7))\n",
        "        X = torch.cat([li, le], dim= 1)\n",
        "        \n",
        "        y = self.model(X)\n",
        "        return y\n",
        "\n",
        "#output size must be (-1,1,28,28)\n",
        "summary(Generator().model, input_size= (129, 7, 7), device= 'cpu')\n",
        "\n"
      ],
      "execution_count": 10,
      "outputs": [
        {
          "output_type": "stream",
          "text": [
            "----------------------------------------------------------------\n",
            "        Layer (type)               Output Shape         Param #\n",
            "================================================================\n",
            "   ConvTranspose2d-1           [-1, 64, 16, 16]         132,160\n",
            "         LeakyReLU-2           [-1, 64, 16, 16]               0\n",
            "   ConvTranspose2d-3           [-1, 32, 34, 34]          32,800\n",
            "         LeakyReLU-4           [-1, 32, 34, 34]               0\n",
            "            Conv2d-5            [-1, 1, 28, 28]           1,569\n",
            "           Sigmoid-6            [-1, 1, 28, 28]               0\n",
            "================================================================\n",
            "Total params: 166,529\n",
            "Trainable params: 166,529\n",
            "Non-trainable params: 0\n",
            "----------------------------------------------------------------\n",
            "Input size (MB): 0.02\n",
            "Forward/backward pass size (MB): 0.83\n",
            "Params size (MB): 0.64\n",
            "Estimated Total Size (MB): 1.49\n",
            "----------------------------------------------------------------\n"
          ],
          "name": "stdout"
        }
      ]
    },
    {
      "cell_type": "code",
      "metadata": {
        "id": "R9UNagNaVbYm"
      },
      "source": [
        "generator = Generator()\n",
        "g_opt = torch.optim.Adam(generator.parameters(), lr= 0.0002, betas= (0.5, 0.999))\n",
        "discriminator = Discriminator()\n",
        "d_opt = torch.optim.Adam(discriminator.parameters(), lr= 0.0002, betas= (0.5, 0.999))\n",
        "loss= nn.BCELoss()"
      ],
      "execution_count": 11,
      "outputs": []
    },
    {
      "cell_type": "code",
      "metadata": {
        "colab": {
          "base_uri": "https://localhost:8080/"
        },
        "id": "80-YoR1sVbb_",
        "outputId": "afe2d76a-c825-41a9-e540-ba838cec7954"
      },
      "source": [
        "generator.to(device)\n",
        "discriminator.to(device)\n",
        "\n",
        "def train(dataset, latent_dim = 100, num_epoch= 100, batch_size= 256):\n",
        "    for epoch in tqdm(range(num_epoch), desc= \"Training\"):\n",
        "        x_train, y_train = dataset\n",
        "        num_iter = len(x_train)//batch_size\n",
        "        for _ in range(num_iter):\n",
        "            discriminator.train()\n",
        "            generator.train()\n",
        "            \n",
        "            #train discriminator on real images real labels\n",
        "            d_opt.zero_grad()\n",
        "            [X, label], y_real = generate_real_samples(dataset, batch_size//4)\n",
        "            X, label, y_real = X.to(device), label.to(device), y_real.to(device)\n",
        "            outputs= discriminator(X, label)\n",
        "            d_loss1 = loss(outputs.view(-1), y_real)\n",
        "            d_loss1.backward()\n",
        "            d_opt.step()\n",
        "            \n",
        "            #train on real images fake labels\n",
        "            d_opt.zero_grad()\n",
        "            [X, label], y_fake =generate_real_samples_fake_labels(dataset, batch_size//4)\n",
        "            X, label, y_fake = X.to(device), label.to(device), y_fake.to(device)\n",
        "            outputs2= discriminator(X, label)\n",
        "            d_loss2 = loss(outputs2.view(-1), y_fake)\n",
        "            d_loss2.backward()\n",
        "            d_opt.step()\n",
        "            \n",
        "            d_opt.zero_grad()\n",
        "            [X, label], y_fake = generate_fake_samples(generator, latent_dim, batch_size//4)\n",
        "            X, label, y_fake = X.to(device), label.to(device), y_fake.to(device) \n",
        "            outputs3= discriminator(X, label)\n",
        "            d_loss3 = loss(outputs3.view(-1), y_fake)\n",
        "            d_loss3.backward()\n",
        "            d_opt.step()\n",
        "            \n",
        "            #train GAN\n",
        "            g_opt.zero_grad()\n",
        "            [X, label], _ = generate_fake_samples(generator, latent_dim, batch_size)\n",
        "            y = torch.ones((batch_size))\n",
        "            X, label, y = X.to(device), label.to(device), y.to(device) \n",
        "            outputs4= discriminator(X, label)\n",
        "            g_loss = loss(outputs4.view(-1), y)\n",
        "            g_loss.backward()\n",
        "            g_opt.step()\n",
        "        \n",
        "        print(f\"\\nDiscriminator loss: {d_loss1} {d_loss2}, {d_loss3}, Generator loss: {g_loss}\")\n",
        "\n",
        "train([x_train, y_train])\n"
      ],
      "execution_count": 12,
      "outputs": [
        {
          "output_type": "stream",
          "text": [
            "Training:   1%|          | 1/100 [00:23<39:26, 23.90s/it]"
          ],
          "name": "stderr"
        },
        {
          "output_type": "stream",
          "text": [
            "\n",
            "Discriminator loss: 1.000220537185669 0.3521237373352051, 0.3979593813419342, Generator loss: 1.2908568382263184\n"
          ],
          "name": "stdout"
        },
        {
          "output_type": "stream",
          "text": [
            "\rTraining:   2%|▏         | 2/100 [00:47<39:02, 23.90s/it]"
          ],
          "name": "stderr"
        },
        {
          "output_type": "stream",
          "text": [
            "\n",
            "Discriminator loss: 0.9784654378890991 0.2922225594520569, 0.49412983655929565, Generator loss: 1.0157028436660767\n"
          ],
          "name": "stdout"
        },
        {
          "output_type": "stream",
          "text": [
            "\rTraining:   3%|▎         | 3/100 [01:11<38:43, 23.95s/it]"
          ],
          "name": "stderr"
        },
        {
          "output_type": "stream",
          "text": [
            "\n",
            "Discriminator loss: 0.987104594707489 0.2497493028640747, 0.5108622312545776, Generator loss: 0.9961491227149963\n"
          ],
          "name": "stdout"
        },
        {
          "output_type": "stream",
          "text": [
            "\rTraining:   4%|▍         | 4/100 [01:35<38:22, 23.99s/it]"
          ],
          "name": "stderr"
        },
        {
          "output_type": "stream",
          "text": [
            "\n",
            "Discriminator loss: 0.9535024762153625 0.23772501945495605, 0.4702094793319702, Generator loss: 1.0201443433761597\n"
          ],
          "name": "stdout"
        },
        {
          "output_type": "stream",
          "text": [
            "\rTraining:   5%|▌         | 5/100 [02:00<38:01, 24.02s/it]"
          ],
          "name": "stderr"
        },
        {
          "output_type": "stream",
          "text": [
            "\n",
            "Discriminator loss: 0.9801121950149536 0.2288825809955597, 0.5063478350639343, Generator loss: 1.0074673891067505\n"
          ],
          "name": "stdout"
        },
        {
          "output_type": "stream",
          "text": [
            "\rTraining:   6%|▌         | 6/100 [02:24<37:37, 24.01s/it]"
          ],
          "name": "stderr"
        },
        {
          "output_type": "stream",
          "text": [
            "\n",
            "Discriminator loss: 0.9172629117965698 0.23069027066230774, 0.4543520510196686, Generator loss: 1.113702654838562\n"
          ],
          "name": "stdout"
        },
        {
          "output_type": "stream",
          "text": [
            "\rTraining:   7%|▋         | 7/100 [02:48<37:13, 24.01s/it]"
          ],
          "name": "stderr"
        },
        {
          "output_type": "stream",
          "text": [
            "\n",
            "Discriminator loss: 0.7911808490753174 0.18641656637191772, 0.469290554523468, Generator loss: 1.0927504301071167\n"
          ],
          "name": "stdout"
        },
        {
          "output_type": "stream",
          "text": [
            "\rTraining:   8%|▊         | 8/100 [03:12<36:48, 24.00s/it]"
          ],
          "name": "stderr"
        },
        {
          "output_type": "stream",
          "text": [
            "\n",
            "Discriminator loss: 0.8573707938194275 0.17371398210525513, 0.4920818507671356, Generator loss: 1.1130716800689697\n"
          ],
          "name": "stdout"
        },
        {
          "output_type": "stream",
          "text": [
            "\rTraining:   9%|▉         | 9/100 [03:35<36:23, 24.00s/it]"
          ],
          "name": "stderr"
        },
        {
          "output_type": "stream",
          "text": [
            "\n",
            "Discriminator loss: 0.7484965324401855 0.16837981343269348, 0.510808527469635, Generator loss: 1.0476136207580566\n"
          ],
          "name": "stdout"
        },
        {
          "output_type": "stream",
          "text": [
            "\rTraining:  10%|█         | 10/100 [04:00<36:00, 24.01s/it]"
          ],
          "name": "stderr"
        },
        {
          "output_type": "stream",
          "text": [
            "\n",
            "Discriminator loss: 0.7787642478942871 0.15402492880821228, 0.5208225250244141, Generator loss: 1.0757203102111816\n"
          ],
          "name": "stdout"
        },
        {
          "output_type": "stream",
          "text": [
            "\rTraining:  11%|█         | 11/100 [04:24<35:36, 24.01s/it]"
          ],
          "name": "stderr"
        },
        {
          "output_type": "stream",
          "text": [
            "\n",
            "Discriminator loss: 0.7671620845794678 0.15636879205703735, 0.5345878601074219, Generator loss: 1.077445149421692\n"
          ],
          "name": "stdout"
        },
        {
          "output_type": "stream",
          "text": [
            "\rTraining:  12%|█▏        | 12/100 [04:48<35:13, 24.01s/it]"
          ],
          "name": "stderr"
        },
        {
          "output_type": "stream",
          "text": [
            "\n",
            "Discriminator loss: 0.7883943319320679 0.23251762986183167, 0.4399566054344177, Generator loss: 1.2041822671890259\n"
          ],
          "name": "stdout"
        },
        {
          "output_type": "stream",
          "text": [
            "\rTraining:  13%|█▎        | 13/100 [05:12<34:49, 24.02s/it]"
          ],
          "name": "stderr"
        },
        {
          "output_type": "stream",
          "text": [
            "\n",
            "Discriminator loss: 0.7369450926780701 0.12438136339187622, 0.4357309341430664, Generator loss: 1.0992497205734253\n"
          ],
          "name": "stdout"
        },
        {
          "output_type": "stream",
          "text": [
            "\rTraining:  14%|█▍        | 14/100 [05:36<34:26, 24.03s/it]"
          ],
          "name": "stderr"
        },
        {
          "output_type": "stream",
          "text": [
            "\n",
            "Discriminator loss: 0.8979266285896301 0.12281979620456696, 0.5250025987625122, Generator loss: 1.091848611831665\n"
          ],
          "name": "stdout"
        },
        {
          "output_type": "stream",
          "text": [
            "\rTraining:  15%|█▌        | 15/100 [06:00<34:02, 24.03s/it]"
          ],
          "name": "stderr"
        },
        {
          "output_type": "stream",
          "text": [
            "\n",
            "Discriminator loss: 0.8083933591842651 0.1644098162651062, 0.5161689519882202, Generator loss: 1.091080665588379\n"
          ],
          "name": "stdout"
        },
        {
          "output_type": "stream",
          "text": [
            "\rTraining:  16%|█▌        | 16/100 [06:24<33:39, 24.04s/it]"
          ],
          "name": "stderr"
        },
        {
          "output_type": "stream",
          "text": [
            "\n",
            "Discriminator loss: 0.7639378905296326 0.15174388885498047, 0.6032412052154541, Generator loss: 1.0448235273361206\n"
          ],
          "name": "stdout"
        },
        {
          "output_type": "stream",
          "text": [
            "\rTraining:  17%|█▋        | 17/100 [06:48<33:14, 24.04s/it]"
          ],
          "name": "stderr"
        },
        {
          "output_type": "stream",
          "text": [
            "\n",
            "Discriminator loss: 0.8370200991630554 0.13238543272018433, 0.503339409828186, Generator loss: 1.103947639465332\n"
          ],
          "name": "stdout"
        },
        {
          "output_type": "stream",
          "text": [
            "\rTraining:  18%|█▊        | 18/100 [07:12<32:50, 24.03s/it]"
          ],
          "name": "stderr"
        },
        {
          "output_type": "stream",
          "text": [
            "\n",
            "Discriminator loss: 0.9340483546257019 0.1534789502620697, 0.54366534948349, Generator loss: 1.0320720672607422\n"
          ],
          "name": "stdout"
        },
        {
          "output_type": "stream",
          "text": [
            "\rTraining:  19%|█▉        | 19/100 [07:36<32:26, 24.03s/it]"
          ],
          "name": "stderr"
        },
        {
          "output_type": "stream",
          "text": [
            "\n",
            "Discriminator loss: 0.9150856733322144 0.13956724107265472, 0.5801786184310913, Generator loss: 0.9616338014602661\n"
          ],
          "name": "stdout"
        },
        {
          "output_type": "stream",
          "text": [
            "\rTraining:  20%|██        | 20/100 [08:00<32:02, 24.03s/it]"
          ],
          "name": "stderr"
        },
        {
          "output_type": "stream",
          "text": [
            "\n",
            "Discriminator loss: 0.9577438831329346 0.1718711256980896, 0.630212664604187, Generator loss: 0.9227126836776733\n"
          ],
          "name": "stdout"
        },
        {
          "output_type": "stream",
          "text": [
            "\rTraining:  21%|██        | 21/100 [08:24<31:38, 24.03s/it]"
          ],
          "name": "stderr"
        },
        {
          "output_type": "stream",
          "text": [
            "\n",
            "Discriminator loss: 0.8267452716827393 0.12555427849292755, 0.5767213702201843, Generator loss: 0.9541332721710205\n"
          ],
          "name": "stdout"
        },
        {
          "output_type": "stream",
          "text": [
            "\rTraining:  22%|██▏       | 22/100 [08:48<31:14, 24.03s/it]"
          ],
          "name": "stderr"
        },
        {
          "output_type": "stream",
          "text": [
            "\n",
            "Discriminator loss: 0.8587324619293213 0.10725655406713486, 0.6230934858322144, Generator loss: 0.928056001663208\n"
          ],
          "name": "stdout"
        },
        {
          "output_type": "stream",
          "text": [
            "\rTraining:  23%|██▎       | 23/100 [09:12<30:50, 24.03s/it]"
          ],
          "name": "stderr"
        },
        {
          "output_type": "stream",
          "text": [
            "\n",
            "Discriminator loss: 0.8629424571990967 0.12026254832744598, 0.6208599209785461, Generator loss: 0.9378809928894043\n"
          ],
          "name": "stdout"
        },
        {
          "output_type": "stream",
          "text": [
            "\rTraining:  24%|██▍       | 24/100 [09:36<30:26, 24.03s/it]"
          ],
          "name": "stderr"
        },
        {
          "output_type": "stream",
          "text": [
            "\n",
            "Discriminator loss: 0.8746179342269897 0.127350315451622, 0.57065749168396, Generator loss: 0.9435174465179443\n"
          ],
          "name": "stdout"
        },
        {
          "output_type": "stream",
          "text": [
            "\rTraining:  25%|██▌       | 25/100 [10:00<30:02, 24.03s/it]"
          ],
          "name": "stderr"
        },
        {
          "output_type": "stream",
          "text": [
            "\n",
            "Discriminator loss: 0.9131604433059692 0.12510618567466736, 0.6050000786781311, Generator loss: 0.8936701416969299\n"
          ],
          "name": "stdout"
        },
        {
          "output_type": "stream",
          "text": [
            "\rTraining:  26%|██▌       | 26/100 [10:24<29:38, 24.03s/it]"
          ],
          "name": "stderr"
        },
        {
          "output_type": "stream",
          "text": [
            "\n",
            "Discriminator loss: 0.8593690395355225 0.11911830306053162, 0.5994773507118225, Generator loss: 0.9083383083343506\n"
          ],
          "name": "stdout"
        },
        {
          "output_type": "stream",
          "text": [
            "\rTraining:  27%|██▋       | 27/100 [10:48<29:14, 24.03s/it]"
          ],
          "name": "stderr"
        },
        {
          "output_type": "stream",
          "text": [
            "\n",
            "Discriminator loss: 0.8979498147964478 0.1404430866241455, 0.6302825212478638, Generator loss: 0.8560419678688049\n"
          ],
          "name": "stdout"
        },
        {
          "output_type": "stream",
          "text": [
            "\rTraining:  28%|██▊       | 28/100 [11:12<28:50, 24.03s/it]"
          ],
          "name": "stderr"
        },
        {
          "output_type": "stream",
          "text": [
            "\n",
            "Discriminator loss: 0.9070749282836914 0.1344984471797943, 0.6328781843185425, Generator loss: 0.8859760761260986\n"
          ],
          "name": "stdout"
        },
        {
          "output_type": "stream",
          "text": [
            "\rTraining:  29%|██▉       | 29/100 [11:36<28:25, 24.02s/it]"
          ],
          "name": "stderr"
        },
        {
          "output_type": "stream",
          "text": [
            "\n",
            "Discriminator loss: 0.8336139917373657 0.13869509100914001, 0.605441153049469, Generator loss: 0.8878887891769409\n"
          ],
          "name": "stdout"
        },
        {
          "output_type": "stream",
          "text": [
            "\rTraining:  30%|███       | 30/100 [12:00<28:01, 24.03s/it]"
          ],
          "name": "stderr"
        },
        {
          "output_type": "stream",
          "text": [
            "\n",
            "Discriminator loss: 0.8831872940063477 0.15872153639793396, 0.6255388259887695, Generator loss: 0.8834018111228943\n"
          ],
          "name": "stdout"
        },
        {
          "output_type": "stream",
          "text": [
            "\rTraining:  31%|███       | 31/100 [12:24<27:37, 24.03s/it]"
          ],
          "name": "stderr"
        },
        {
          "output_type": "stream",
          "text": [
            "\n",
            "Discriminator loss: 0.9060410261154175 0.11072813719511032, 0.6396392583847046, Generator loss: 0.8776782751083374\n"
          ],
          "name": "stdout"
        },
        {
          "output_type": "stream",
          "text": [
            "\rTraining:  32%|███▏      | 32/100 [12:48<27:13, 24.03s/it]"
          ],
          "name": "stderr"
        },
        {
          "output_type": "stream",
          "text": [
            "\n",
            "Discriminator loss: 0.9073727130889893 0.10164821147918701, 0.6174747347831726, Generator loss: 0.8522961139678955\n"
          ],
          "name": "stdout"
        },
        {
          "output_type": "stream",
          "text": [
            "\rTraining:  33%|███▎      | 33/100 [13:12<26:49, 24.02s/it]"
          ],
          "name": "stderr"
        },
        {
          "output_type": "stream",
          "text": [
            "\n",
            "Discriminator loss: 0.9399740695953369 0.16902899742126465, 0.6404221057891846, Generator loss: 0.8720980882644653\n"
          ],
          "name": "stdout"
        },
        {
          "output_type": "stream",
          "text": [
            "\rTraining:  34%|███▍      | 34/100 [13:36<26:25, 24.02s/it]"
          ],
          "name": "stderr"
        },
        {
          "output_type": "stream",
          "text": [
            "\n",
            "Discriminator loss: 0.9514427185058594 0.11875410377979279, 0.5999202132225037, Generator loss: 0.8913038969039917\n"
          ],
          "name": "stdout"
        },
        {
          "output_type": "stream",
          "text": [
            "\rTraining:  35%|███▌      | 35/100 [14:00<26:01, 24.02s/it]"
          ],
          "name": "stderr"
        },
        {
          "output_type": "stream",
          "text": [
            "\n",
            "Discriminator loss: 0.7642621994018555 0.1253969371318817, 0.5639489889144897, Generator loss: 0.9559141397476196\n"
          ],
          "name": "stdout"
        },
        {
          "output_type": "stream",
          "text": [
            "\rTraining:  36%|███▌      | 36/100 [14:24<25:37, 24.02s/it]"
          ],
          "name": "stderr"
        },
        {
          "output_type": "stream",
          "text": [
            "\n",
            "Discriminator loss: 0.8215389251708984 0.12343961000442505, 0.6732615232467651, Generator loss: 0.9217861890792847\n"
          ],
          "name": "stdout"
        },
        {
          "output_type": "stream",
          "text": [
            "\rTraining:  37%|███▋      | 37/100 [14:48<25:12, 24.02s/it]"
          ],
          "name": "stderr"
        },
        {
          "output_type": "stream",
          "text": [
            "\n",
            "Discriminator loss: 0.8162379860877991 0.10856793820858002, 0.5907065868377686, Generator loss: 0.8609308004379272\n"
          ],
          "name": "stdout"
        },
        {
          "output_type": "stream",
          "text": [
            "\rTraining:  38%|███▊      | 38/100 [15:12<24:49, 24.02s/it]"
          ],
          "name": "stderr"
        },
        {
          "output_type": "stream",
          "text": [
            "\n",
            "Discriminator loss: 0.820382833480835 0.1118423193693161, 0.6021671295166016, Generator loss: 0.8444690108299255\n"
          ],
          "name": "stdout"
        },
        {
          "output_type": "stream",
          "text": [
            "\rTraining:  39%|███▉      | 39/100 [15:36<24:24, 24.01s/it]"
          ],
          "name": "stderr"
        },
        {
          "output_type": "stream",
          "text": [
            "\n",
            "Discriminator loss: 0.8557170629501343 0.09892085194587708, 0.6004893183708191, Generator loss: 0.8384315967559814\n"
          ],
          "name": "stdout"
        },
        {
          "output_type": "stream",
          "text": [
            "\rTraining:  40%|████      | 40/100 [16:00<24:00, 24.01s/it]"
          ],
          "name": "stderr"
        },
        {
          "output_type": "stream",
          "text": [
            "\n",
            "Discriminator loss: 0.798142671585083 0.09461037814617157, 0.6130449771881104, Generator loss: 0.8352465629577637\n"
          ],
          "name": "stdout"
        },
        {
          "output_type": "stream",
          "text": [
            "\rTraining:  41%|████      | 41/100 [16:24<23:36, 24.01s/it]"
          ],
          "name": "stderr"
        },
        {
          "output_type": "stream",
          "text": [
            "\n",
            "Discriminator loss: 0.8683081865310669 0.12203336507081985, 0.6151565313339233, Generator loss: 0.8843892812728882\n"
          ],
          "name": "stdout"
        },
        {
          "output_type": "stream",
          "text": [
            "\rTraining:  42%|████▏     | 42/100 [16:48<23:11, 24.00s/it]"
          ],
          "name": "stderr"
        },
        {
          "output_type": "stream",
          "text": [
            "\n",
            "Discriminator loss: 0.8431832790374756 0.11392241716384888, 0.6253511905670166, Generator loss: 0.8517317771911621\n"
          ],
          "name": "stdout"
        },
        {
          "output_type": "stream",
          "text": [
            "\rTraining:  43%|████▎     | 43/100 [17:12<22:48, 24.01s/it]"
          ],
          "name": "stderr"
        },
        {
          "output_type": "stream",
          "text": [
            "\n",
            "Discriminator loss: 0.822314977645874 0.1057465672492981, 0.602758526802063, Generator loss: 0.8872116208076477\n"
          ],
          "name": "stdout"
        },
        {
          "output_type": "stream",
          "text": [
            "\rTraining:  44%|████▍     | 44/100 [17:36<22:24, 24.01s/it]"
          ],
          "name": "stderr"
        },
        {
          "output_type": "stream",
          "text": [
            "\n",
            "Discriminator loss: 0.8228620290756226 0.11652220785617828, 0.6495792865753174, Generator loss: 0.8778126239776611\n"
          ],
          "name": "stdout"
        },
        {
          "output_type": "stream",
          "text": [
            "\rTraining:  45%|████▌     | 45/100 [18:00<21:59, 24.00s/it]"
          ],
          "name": "stderr"
        },
        {
          "output_type": "stream",
          "text": [
            "\n",
            "Discriminator loss: 0.794439435005188 0.11616641283035278, 0.5966206789016724, Generator loss: 0.8666673302650452\n"
          ],
          "name": "stdout"
        },
        {
          "output_type": "stream",
          "text": [
            "\rTraining:  46%|████▌     | 46/100 [18:24<21:36, 24.01s/it]"
          ],
          "name": "stderr"
        },
        {
          "output_type": "stream",
          "text": [
            "\n",
            "Discriminator loss: 0.8819891214370728 0.11102047562599182, 0.5898482799530029, Generator loss: 0.8615381717681885\n"
          ],
          "name": "stdout"
        },
        {
          "output_type": "stream",
          "text": [
            "\rTraining:  47%|████▋     | 47/100 [18:48<21:12, 24.02s/it]"
          ],
          "name": "stderr"
        },
        {
          "output_type": "stream",
          "text": [
            "\n",
            "Discriminator loss: 0.8897087574005127 0.10179698467254639, 0.5666360259056091, Generator loss: 0.8361856937408447\n"
          ],
          "name": "stdout"
        },
        {
          "output_type": "stream",
          "text": [
            "\rTraining:  48%|████▊     | 48/100 [19:12<20:48, 24.01s/it]"
          ],
          "name": "stderr"
        },
        {
          "output_type": "stream",
          "text": [
            "\n",
            "Discriminator loss: 0.8932725787162781 0.09557288885116577, 0.6104660034179688, Generator loss: 0.847941517829895\n"
          ],
          "name": "stdout"
        },
        {
          "output_type": "stream",
          "text": [
            "\rTraining:  49%|████▉     | 49/100 [19:36<20:24, 24.00s/it]"
          ],
          "name": "stderr"
        },
        {
          "output_type": "stream",
          "text": [
            "\n",
            "Discriminator loss: 0.8741108179092407 0.1171615868806839, 0.6171318292617798, Generator loss: 0.8642429113388062\n"
          ],
          "name": "stdout"
        },
        {
          "output_type": "stream",
          "text": [
            "\rTraining:  50%|█████     | 50/100 [20:00<19:59, 24.00s/it]"
          ],
          "name": "stderr"
        },
        {
          "output_type": "stream",
          "text": [
            "\n",
            "Discriminator loss: 0.8236528635025024 0.13063469529151917, 0.6085516214370728, Generator loss: 0.8611128330230713\n"
          ],
          "name": "stdout"
        },
        {
          "output_type": "stream",
          "text": [
            "\rTraining:  51%|█████     | 51/100 [20:24<19:35, 23.99s/it]"
          ],
          "name": "stderr"
        },
        {
          "output_type": "stream",
          "text": [
            "\n",
            "Discriminator loss: 0.8891934752464294 0.10668432712554932, 0.692193865776062, Generator loss: 0.8354166746139526\n"
          ],
          "name": "stdout"
        },
        {
          "output_type": "stream",
          "text": [
            "\rTraining:  52%|█████▏    | 52/100 [20:48<19:11, 23.99s/it]"
          ],
          "name": "stderr"
        },
        {
          "output_type": "stream",
          "text": [
            "\n",
            "Discriminator loss: 0.9248846769332886 0.12102244794368744, 0.6181135177612305, Generator loss: 0.8585106134414673\n"
          ],
          "name": "stdout"
        },
        {
          "output_type": "stream",
          "text": [
            "\rTraining:  53%|█████▎    | 53/100 [21:12<18:47, 24.00s/it]"
          ],
          "name": "stderr"
        },
        {
          "output_type": "stream",
          "text": [
            "\n",
            "Discriminator loss: 0.7956281900405884 0.11929138004779816, 0.5922064781188965, Generator loss: 0.855830729007721\n"
          ],
          "name": "stdout"
        },
        {
          "output_type": "stream",
          "text": [
            "\rTraining:  54%|█████▍    | 54/100 [21:36<18:24, 24.01s/it]"
          ],
          "name": "stderr"
        },
        {
          "output_type": "stream",
          "text": [
            "\n",
            "Discriminator loss: 0.8316847681999207 0.09945247322320938, 0.6346748471260071, Generator loss: 0.833328366279602\n"
          ],
          "name": "stdout"
        },
        {
          "output_type": "stream",
          "text": [
            "\rTraining:  55%|█████▌    | 55/100 [22:00<18:00, 24.01s/it]"
          ],
          "name": "stderr"
        },
        {
          "output_type": "stream",
          "text": [
            "\n",
            "Discriminator loss: 0.8965970277786255 0.11852387338876724, 0.6746525764465332, Generator loss: 0.8155786395072937\n"
          ],
          "name": "stdout"
        },
        {
          "output_type": "stream",
          "text": [
            "\rTraining:  56%|█████▌    | 56/100 [22:24<17:36, 24.00s/it]"
          ],
          "name": "stderr"
        },
        {
          "output_type": "stream",
          "text": [
            "\n",
            "Discriminator loss: 0.8273171186447144 0.10671985149383545, 0.592369556427002, Generator loss: 0.8236498236656189\n"
          ],
          "name": "stdout"
        },
        {
          "output_type": "stream",
          "text": [
            "\rTraining:  57%|█████▋    | 57/100 [22:48<17:12, 24.01s/it]"
          ],
          "name": "stderr"
        },
        {
          "output_type": "stream",
          "text": [
            "\n",
            "Discriminator loss: 0.8145378232002258 0.11653274297714233, 0.6704510450363159, Generator loss: 0.823070764541626\n"
          ],
          "name": "stdout"
        },
        {
          "output_type": "stream",
          "text": [
            "\rTraining:  58%|█████▊    | 58/100 [23:12<16:48, 24.01s/it]"
          ],
          "name": "stderr"
        },
        {
          "output_type": "stream",
          "text": [
            "\n",
            "Discriminator loss: 0.8146423101425171 0.1242375373840332, 0.6324841976165771, Generator loss: 0.8460330963134766\n"
          ],
          "name": "stdout"
        },
        {
          "output_type": "stream",
          "text": [
            "\rTraining:  59%|█████▉    | 59/100 [23:36<16:25, 24.03s/it]"
          ],
          "name": "stderr"
        },
        {
          "output_type": "stream",
          "text": [
            "\n",
            "Discriminator loss: 0.8205760717391968 0.09035933017730713, 0.6731604337692261, Generator loss: 0.8300504088401794\n"
          ],
          "name": "stdout"
        },
        {
          "output_type": "stream",
          "text": [
            "\rTraining:  60%|██████    | 60/100 [24:00<16:01, 24.03s/it]"
          ],
          "name": "stderr"
        },
        {
          "output_type": "stream",
          "text": [
            "\n",
            "Discriminator loss: 0.8028866648674011 0.08234421908855438, 0.6522125005722046, Generator loss: 0.802499532699585\n"
          ],
          "name": "stdout"
        },
        {
          "output_type": "stream",
          "text": [
            "\rTraining:  61%|██████    | 61/100 [24:24<15:37, 24.03s/it]"
          ],
          "name": "stderr"
        },
        {
          "output_type": "stream",
          "text": [
            "\n",
            "Discriminator loss: 0.8755883574485779 0.1055493950843811, 0.6240477561950684, Generator loss: 0.8396358489990234\n"
          ],
          "name": "stdout"
        },
        {
          "output_type": "stream",
          "text": [
            "\rTraining:  62%|██████▏   | 62/100 [24:48<15:12, 24.02s/it]"
          ],
          "name": "stderr"
        },
        {
          "output_type": "stream",
          "text": [
            "\n",
            "Discriminator loss: 0.8254343271255493 0.10011888295412064, 0.6382064819335938, Generator loss: 0.8323471546173096\n"
          ],
          "name": "stdout"
        },
        {
          "output_type": "stream",
          "text": [
            "\rTraining:  63%|██████▎   | 63/100 [25:12<14:48, 24.02s/it]"
          ],
          "name": "stderr"
        },
        {
          "output_type": "stream",
          "text": [
            "\n",
            "Discriminator loss: 0.8319914937019348 0.07483195513486862, 0.6353299021720886, Generator loss: 0.838916540145874\n"
          ],
          "name": "stdout"
        },
        {
          "output_type": "stream",
          "text": [
            "\rTraining:  64%|██████▍   | 64/100 [25:37<14:24, 24.02s/it]"
          ],
          "name": "stderr"
        },
        {
          "output_type": "stream",
          "text": [
            "\n",
            "Discriminator loss: 0.8071160316467285 0.10435225814580917, 0.6288280487060547, Generator loss: 0.8443666100502014\n"
          ],
          "name": "stdout"
        },
        {
          "output_type": "stream",
          "text": [
            "\rTraining:  65%|██████▌   | 65/100 [26:00<14:00, 24.01s/it]"
          ],
          "name": "stderr"
        },
        {
          "output_type": "stream",
          "text": [
            "\n",
            "Discriminator loss: 0.8216459155082703 0.11160477995872498, 0.6865416765213013, Generator loss: 0.841157078742981\n"
          ],
          "name": "stdout"
        },
        {
          "output_type": "stream",
          "text": [
            "\rTraining:  66%|██████▌   | 66/100 [26:25<13:36, 24.01s/it]"
          ],
          "name": "stderr"
        },
        {
          "output_type": "stream",
          "text": [
            "\n",
            "Discriminator loss: 0.9656482934951782 0.0870278924703598, 0.6741781234741211, Generator loss: 0.7937666177749634\n"
          ],
          "name": "stdout"
        },
        {
          "output_type": "stream",
          "text": [
            "\rTraining:  67%|██████▋   | 67/100 [26:49<13:12, 24.01s/it]"
          ],
          "name": "stderr"
        },
        {
          "output_type": "stream",
          "text": [
            "\n",
            "Discriminator loss: 0.867782711982727 0.0932009369134903, 0.6177324652671814, Generator loss: 0.857725203037262\n"
          ],
          "name": "stdout"
        },
        {
          "output_type": "stream",
          "text": [
            "\rTraining:  68%|██████▊   | 68/100 [27:13<12:48, 24.02s/it]"
          ],
          "name": "stderr"
        },
        {
          "output_type": "stream",
          "text": [
            "\n",
            "Discriminator loss: 0.8194541931152344 0.10278932005167007, 0.626244068145752, Generator loss: 0.83540940284729\n"
          ],
          "name": "stdout"
        },
        {
          "output_type": "stream",
          "text": [
            "\rTraining:  69%|██████▉   | 69/100 [27:37<12:24, 24.02s/it]"
          ],
          "name": "stderr"
        },
        {
          "output_type": "stream",
          "text": [
            "\n",
            "Discriminator loss: 0.8581953048706055 0.11384010314941406, 0.664638876914978, Generator loss: 0.8287749290466309\n"
          ],
          "name": "stdout"
        },
        {
          "output_type": "stream",
          "text": [
            "\rTraining:  70%|███████   | 70/100 [28:01<12:00, 24.03s/it]"
          ],
          "name": "stderr"
        },
        {
          "output_type": "stream",
          "text": [
            "\n",
            "Discriminator loss: 0.8764088153839111 0.08800084888935089, 0.667158842086792, Generator loss: 0.822109043598175\n"
          ],
          "name": "stdout"
        },
        {
          "output_type": "stream",
          "text": [
            "\rTraining:  71%|███████   | 71/100 [28:25<11:36, 24.03s/it]"
          ],
          "name": "stderr"
        },
        {
          "output_type": "stream",
          "text": [
            "\n",
            "Discriminator loss: 0.8176522254943848 0.09505409002304077, 0.6140792369842529, Generator loss: 0.8252013921737671\n"
          ],
          "name": "stdout"
        },
        {
          "output_type": "stream",
          "text": [
            "\rTraining:  72%|███████▏  | 72/100 [28:49<11:12, 24.03s/it]"
          ],
          "name": "stderr"
        },
        {
          "output_type": "stream",
          "text": [
            "\n",
            "Discriminator loss: 0.8473144769668579 0.09642524272203445, 0.637859582901001, Generator loss: 0.8318464756011963\n"
          ],
          "name": "stdout"
        },
        {
          "output_type": "stream",
          "text": [
            "\rTraining:  73%|███████▎  | 73/100 [29:13<10:48, 24.02s/it]"
          ],
          "name": "stderr"
        },
        {
          "output_type": "stream",
          "text": [
            "\n",
            "Discriminator loss: 0.8582894206047058 0.1038006916642189, 0.6480542421340942, Generator loss: 0.7955806851387024\n"
          ],
          "name": "stdout"
        },
        {
          "output_type": "stream",
          "text": [
            "\rTraining:  74%|███████▍  | 74/100 [29:37<10:24, 24.03s/it]"
          ],
          "name": "stderr"
        },
        {
          "output_type": "stream",
          "text": [
            "\n",
            "Discriminator loss: 0.772540271282196 0.09549804031848907, 0.6716318130493164, Generator loss: 0.8050775527954102\n"
          ],
          "name": "stdout"
        },
        {
          "output_type": "stream",
          "text": [
            "\rTraining:  75%|███████▌  | 75/100 [30:01<10:00, 24.03s/it]"
          ],
          "name": "stderr"
        },
        {
          "output_type": "stream",
          "text": [
            "\n",
            "Discriminator loss: 0.8476322293281555 0.1068161129951477, 0.6784324645996094, Generator loss: 0.8107962608337402\n"
          ],
          "name": "stdout"
        },
        {
          "output_type": "stream",
          "text": [
            "\rTraining:  76%|███████▌  | 76/100 [30:25<09:36, 24.03s/it]"
          ],
          "name": "stderr"
        },
        {
          "output_type": "stream",
          "text": [
            "\n",
            "Discriminator loss: 0.8698185682296753 0.09684032946825027, 0.6638617515563965, Generator loss: 0.8113175630569458\n"
          ],
          "name": "stdout"
        },
        {
          "output_type": "stream",
          "text": [
            "\rTraining:  77%|███████▋  | 77/100 [30:49<09:12, 24.03s/it]"
          ],
          "name": "stderr"
        },
        {
          "output_type": "stream",
          "text": [
            "\n",
            "Discriminator loss: 0.8530051708221436 0.11205911636352539, 0.6712026596069336, Generator loss: 0.8435851335525513\n"
          ],
          "name": "stdout"
        },
        {
          "output_type": "stream",
          "text": [
            "\rTraining:  78%|███████▊  | 78/100 [31:13<08:48, 24.04s/it]"
          ],
          "name": "stderr"
        },
        {
          "output_type": "stream",
          "text": [
            "\n",
            "Discriminator loss: 0.8605811595916748 0.09056131541728973, 0.6180458068847656, Generator loss: 0.8416370749473572\n"
          ],
          "name": "stdout"
        },
        {
          "output_type": "stream",
          "text": [
            "\rTraining:  79%|███████▉  | 79/100 [31:37<08:24, 24.03s/it]"
          ],
          "name": "stderr"
        },
        {
          "output_type": "stream",
          "text": [
            "\n",
            "Discriminator loss: 0.927186131477356 0.08595316112041473, 0.6530061364173889, Generator loss: 0.8276645541191101\n"
          ],
          "name": "stdout"
        },
        {
          "output_type": "stream",
          "text": [
            "\rTraining:  80%|████████  | 80/100 [32:01<08:00, 24.03s/it]"
          ],
          "name": "stderr"
        },
        {
          "output_type": "stream",
          "text": [
            "\n",
            "Discriminator loss: 0.8415333032608032 0.08617781102657318, 0.6588433384895325, Generator loss: 0.8226920962333679\n"
          ],
          "name": "stdout"
        },
        {
          "output_type": "stream",
          "text": [
            "\rTraining:  81%|████████  | 81/100 [32:25<07:36, 24.03s/it]"
          ],
          "name": "stderr"
        },
        {
          "output_type": "stream",
          "text": [
            "\n",
            "Discriminator loss: 0.7868524789810181 0.10007177293300629, 0.6404163837432861, Generator loss: 0.7937334179878235\n"
          ],
          "name": "stdout"
        },
        {
          "output_type": "stream",
          "text": [
            "\rTraining:  82%|████████▏ | 82/100 [32:49<07:12, 24.02s/it]"
          ],
          "name": "stderr"
        },
        {
          "output_type": "stream",
          "text": [
            "\n",
            "Discriminator loss: 0.8629235029220581 0.10568071901798248, 0.6454744338989258, Generator loss: 0.8044741153717041\n"
          ],
          "name": "stdout"
        },
        {
          "output_type": "stream",
          "text": [
            "\rTraining:  83%|████████▎ | 83/100 [33:13<06:48, 24.02s/it]"
          ],
          "name": "stderr"
        },
        {
          "output_type": "stream",
          "text": [
            "\n",
            "Discriminator loss: 0.8686573505401611 0.09876666963100433, 0.626160740852356, Generator loss: 0.8041391372680664\n"
          ],
          "name": "stdout"
        },
        {
          "output_type": "stream",
          "text": [
            "\rTraining:  84%|████████▍ | 84/100 [33:37<06:24, 24.03s/it]"
          ],
          "name": "stderr"
        },
        {
          "output_type": "stream",
          "text": [
            "\n",
            "Discriminator loss: 0.9045882821083069 0.10084322094917297, 0.657575249671936, Generator loss: 0.8152628540992737\n"
          ],
          "name": "stdout"
        },
        {
          "output_type": "stream",
          "text": [
            "\rTraining:  85%|████████▌ | 85/100 [34:01<06:00, 24.03s/it]"
          ],
          "name": "stderr"
        },
        {
          "output_type": "stream",
          "text": [
            "\n",
            "Discriminator loss: 0.9047791957855225 0.11184612661600113, 0.6502854228019714, Generator loss: 0.816540539264679\n"
          ],
          "name": "stdout"
        },
        {
          "output_type": "stream",
          "text": [
            "\rTraining:  86%|████████▌ | 86/100 [34:25<05:36, 24.03s/it]"
          ],
          "name": "stderr"
        },
        {
          "output_type": "stream",
          "text": [
            "\n",
            "Discriminator loss: 0.7836868762969971 0.08281012624502182, 0.6339352130889893, Generator loss: 0.8352360725402832\n"
          ],
          "name": "stdout"
        },
        {
          "output_type": "stream",
          "text": [
            "\rTraining:  87%|████████▋ | 87/100 [34:49<05:12, 24.03s/it]"
          ],
          "name": "stderr"
        },
        {
          "output_type": "stream",
          "text": [
            "\n",
            "Discriminator loss: 0.7809818387031555 0.07074780017137527, 0.64577317237854, Generator loss: 0.8324974179267883\n"
          ],
          "name": "stdout"
        },
        {
          "output_type": "stream",
          "text": [
            "\rTraining:  88%|████████▊ | 88/100 [35:13<04:48, 24.03s/it]"
          ],
          "name": "stderr"
        },
        {
          "output_type": "stream",
          "text": [
            "\n",
            "Discriminator loss: 0.8560789823532104 0.08682543784379959, 0.586214542388916, Generator loss: 0.8032869100570679\n"
          ],
          "name": "stdout"
        },
        {
          "output_type": "stream",
          "text": [
            "\rTraining:  89%|████████▉ | 89/100 [35:37<04:24, 24.03s/it]"
          ],
          "name": "stderr"
        },
        {
          "output_type": "stream",
          "text": [
            "\n",
            "Discriminator loss: 0.844755232334137 0.10073865950107574, 0.6475396156311035, Generator loss: 0.8195895552635193\n"
          ],
          "name": "stdout"
        },
        {
          "output_type": "stream",
          "text": [
            "\rTraining:  90%|█████████ | 90/100 [36:01<04:00, 24.04s/it]"
          ],
          "name": "stderr"
        },
        {
          "output_type": "stream",
          "text": [
            "\n",
            "Discriminator loss: 0.9223073720932007 0.08627055585384369, 0.5954267978668213, Generator loss: 0.8322893381118774\n"
          ],
          "name": "stdout"
        },
        {
          "output_type": "stream",
          "text": [
            "\rTraining:  91%|█████████ | 91/100 [36:25<03:36, 24.04s/it]"
          ],
          "name": "stderr"
        },
        {
          "output_type": "stream",
          "text": [
            "\n",
            "Discriminator loss: 0.8268457055091858 0.1014438346028328, 0.6512546539306641, Generator loss: 0.829930305480957\n"
          ],
          "name": "stdout"
        },
        {
          "output_type": "stream",
          "text": [
            "\rTraining:  92%|█████████▏| 92/100 [36:49<03:12, 24.04s/it]"
          ],
          "name": "stderr"
        },
        {
          "output_type": "stream",
          "text": [
            "\n",
            "Discriminator loss: 0.8016530275344849 0.08142274618148804, 0.6537684798240662, Generator loss: 0.8228927254676819\n"
          ],
          "name": "stdout"
        },
        {
          "output_type": "stream",
          "text": [
            "\rTraining:  93%|█████████▎| 93/100 [37:13<02:48, 24.03s/it]"
          ],
          "name": "stderr"
        },
        {
          "output_type": "stream",
          "text": [
            "\n",
            "Discriminator loss: 0.8923866152763367 0.10053062438964844, 0.6896206736564636, Generator loss: 0.8303095102310181\n"
          ],
          "name": "stdout"
        },
        {
          "output_type": "stream",
          "text": [
            "\rTraining:  94%|█████████▍| 94/100 [37:37<02:24, 24.02s/it]"
          ],
          "name": "stderr"
        },
        {
          "output_type": "stream",
          "text": [
            "\n",
            "Discriminator loss: 0.8082503080368042 0.08422274887561798, 0.6808562874794006, Generator loss: 0.8112146854400635\n"
          ],
          "name": "stdout"
        },
        {
          "output_type": "stream",
          "text": [
            "\rTraining:  95%|█████████▌| 95/100 [38:01<02:00, 24.02s/it]"
          ],
          "name": "stderr"
        },
        {
          "output_type": "stream",
          "text": [
            "\n",
            "Discriminator loss: 0.8392190933227539 0.08515816926956177, 0.6514731645584106, Generator loss: 0.8441137075424194\n"
          ],
          "name": "stdout"
        },
        {
          "output_type": "stream",
          "text": [
            "\rTraining:  96%|█████████▌| 96/100 [38:25<01:36, 24.02s/it]"
          ],
          "name": "stderr"
        },
        {
          "output_type": "stream",
          "text": [
            "\n",
            "Discriminator loss: 0.8850929737091064 0.07305322587490082, 0.6158886551856995, Generator loss: 0.8013336658477783\n"
          ],
          "name": "stdout"
        },
        {
          "output_type": "stream",
          "text": [
            "\rTraining:  97%|█████████▋| 97/100 [38:49<01:12, 24.01s/it]"
          ],
          "name": "stderr"
        },
        {
          "output_type": "stream",
          "text": [
            "\n",
            "Discriminator loss: 0.8586553335189819 0.10657836496829987, 0.6358336210250854, Generator loss: 0.8164210915565491\n"
          ],
          "name": "stdout"
        },
        {
          "output_type": "stream",
          "text": [
            "\rTraining:  98%|█████████▊| 98/100 [39:13<00:48, 24.01s/it]"
          ],
          "name": "stderr"
        },
        {
          "output_type": "stream",
          "text": [
            "\n",
            "Discriminator loss: 0.826138973236084 0.07917377352714539, 0.6696682572364807, Generator loss: 0.788314938545227\n"
          ],
          "name": "stdout"
        },
        {
          "output_type": "stream",
          "text": [
            "\rTraining:  99%|█████████▉| 99/100 [39:37<00:24, 24.01s/it]"
          ],
          "name": "stderr"
        },
        {
          "output_type": "stream",
          "text": [
            "\n",
            "Discriminator loss: 0.8061738014221191 0.0942176878452301, 0.6473166942596436, Generator loss: 0.7943975925445557\n"
          ],
          "name": "stdout"
        },
        {
          "output_type": "stream",
          "text": [
            "Training: 100%|██████████| 100/100 [40:01<00:00, 24.02s/it]"
          ],
          "name": "stderr"
        },
        {
          "output_type": "stream",
          "text": [
            "\n",
            "Discriminator loss: 0.8410645127296448 0.08940932154655457, 0.6711177825927734, Generator loss: 0.7842941880226135\n"
          ],
          "name": "stdout"
        },
        {
          "output_type": "stream",
          "text": [
            "\n"
          ],
          "name": "stderr"
        }
      ]
    },
    {
      "cell_type": "code",
      "metadata": {
        "id": "uZlkOtoCVbky"
      },
      "source": [
        "def save_plot(examples, n):\n",
        "\t# plot images\n",
        "    examples = examples.cpu().detach().numpy()\n",
        "    for i in range(n * n):\n",
        "\t\t# define subplot\n",
        "        plt.subplot(n, n, 1 + i)\n",
        "\t\t# turn off axis\n",
        "        plt.axis('off')\n",
        "\t\t# plot raw pixel data\n",
        "        plt.imshow(examples[i, 0], cmap='gray')\n",
        "    plt.show()"
      ],
      "execution_count": 13,
      "outputs": []
    },
    {
      "cell_type": "code",
      "metadata": {
        "colab": {
          "base_uri": "https://localhost:8080/",
          "height": 248
        },
        "id": "W1q-IpzFifaH",
        "outputId": "96c64cb4-f318-4a7c-ab3d-29bc4df337c6"
      },
      "source": [
        "[fake, _ ], y = generate_fake_samples(generator, 100, 100)\n",
        "plt.imshow(fake.cpu()[5][0].detach().numpy(), cmap='gray')\n",
        "save_plot(fake, 10)"
      ],
      "execution_count": 14,
      "outputs": [
        {
          "output_type": "display_data",
          "data": {
            "image/png": "[encoded data removed]",
            "text/plain": [
              "<Figure size 432x288 with 100 Axes>"
            ]
          },
          "metadata": {
            "tags": [],
            "needs_background": "light"
          }
        }
      ]
    },
    {
      "cell_type": "code",
      "metadata": {
        "colab": {
          "base_uri": "https://localhost:8080/"
        },
        "id": "Bfq-dA3Qifcq",
        "outputId": "28762f78-911a-425a-b141-3dcb4f2f76a2"
      },
      "source": [
        "def accuracy(batch_size=200):\n",
        "    X = x_val.view(-1, 1, 28, 28).repeat((1,10,1,1)).view(-1, 1, 28, 28)\n",
        "    \n",
        "    labels = torch.LongTensor([i for _ in range(len(x_val)) for i in range(10) ])\n",
        "    batch_size = 200\n",
        "    #number of samples that are correctly classified\n",
        "    count = 0\n",
        "    for i in range(0, len(X), batch_size):\n",
        "        Xb, lb = X[i:i+batch_size], labels[i:i+batch_size]\n",
        "        yb = y_val[i//10:(i+batch_size)//10]\n",
        "        \n",
        "        y = discriminator(Xb.to(device), lb.to(device))\n",
        "        y = y.view(-1, 10).argmax(1)\n",
        "        count += (y.cpu()==yb).sum()\n",
        "    return   count.detach().item()/len(x_val)\n",
        "accuracy()"
      ],
      "execution_count": 20,
      "outputs": [
        {
          "output_type": "execute_result",
          "data": {
            "text/plain": [
              "0.9043"
            ]
          },
          "metadata": {
            "tags": []
          },
          "execution_count": 20
        }
      ]
    },
    {
      "cell_type": "code",
      "metadata": {
        "colab": {
          "base_uri": "https://localhost:8080/",
          "height": 248
        },
        "id": "42VTpCfuiffF",
        "outputId": "1ec232c8-72b7-4128-f29e-1e837f64c798"
      },
      "source": [
        "def show_generated_samples(latent_dim=100, n=10):\n",
        "    z, _ = generate_latent_points(latent_dim, n*n)\n",
        "    labels = [x for _ in range(10) for x in range(10)]\n",
        "    labels = torch.Tensor(labels).type(torch.LongTensor)\n",
        "    examples = generator.cpu()(z,labels)\n",
        "    save_plot(examples, n)\n",
        "show_generated_samples()"
      ],
      "execution_count": 19,
      "outputs": [
        {
          "output_type": "display_data",
          "data": {
            "image/png": "[encoded data removed]",
            "text/plain": [
              "<Figure size 432x288 with 100 Axes>"
            ]
          },
          "metadata": {
            "tags": [],
            "needs_background": "light"
          }
        }
      ]
    },
    {
      "cell_type": "code",
      "metadata": {
        "id": "6SmNHkRCifhx"
      },
      "source": [
        ""
      ],
      "execution_count": null,
      "outputs": []
    },
    {
      "cell_type": "code",
      "metadata": {
        "id": "FM7qoz1AifkM"
      },
      "source": [
        ""
      ],
      "execution_count": null,
      "outputs": []
    },
    {
      "cell_type": "code",
      "metadata": {
        "id": "di3z_NTEifmk"
      },
      "source": [
        ""
      ],
      "execution_count": null,
      "outputs": []
    },
    {
      "cell_type": "code",
      "metadata": {
        "id": "0kOevdG-ifqI"
      },
      "source": [
        ""
      ],
      "execution_count": null,
      "outputs": []
    }
  ]
}